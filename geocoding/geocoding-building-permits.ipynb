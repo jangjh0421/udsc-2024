{
 "cells": [
  {
   "cell_type": "markdown",
   "id": "64d5e983-955f-4336-a99d-8483930fde56",
   "metadata": {},
   "source": [
    "# Geocoding\n",
    "\n",
    "Adapted from materials prepared by [Jeff Allen](http://jamaps.github.io) (April, 2023)"
   ]
  },
  {
   "cell_type": "markdown",
   "id": "e81f5652",
   "metadata": {},
   "source": [
    "Geocoding is the process of taking an address string e.g. \"123 Main St\" and converting it to an X,Y coordinate that we can map / use for spatial analysis\n",
    "\n",
    "Let's learn how to geocode addresses via **Nominatim**, the free to use geocoder for OpenStreetMap.\n",
    "\n",
    "Nominatim uses OpenStreetMap data to find locations by name and address (e.g., a forward search), but it can also do the reverse, find an address for any location on Earth. We can access these functions through an API but first, take time to use the following UI to gain an understainding of the data returned from a search. For example, after performing a search for a city or address, select the **Details** of the query result and notice that XY coordinates are indluded for the centre point of a location.\n",
    "\n",
    "- https://nominatim.openstreetmap.org/ui/"
   ]
  },
  {
   "cell_type": "markdown",
   "id": "8833efb5",
   "metadata": {},
   "source": [
    "## 1. Create a Python function to geocode an address using the Nominatim API\n",
    "\n",
    "Let's create a Python function that reads in an address and geocodes it!\n",
    "\n",
    "This uses the [`requests`](https://pypi.org/project/requests/) library to query the **Nominatim API**, and then the [`json`](https://docs.python.org/3/library/json.html) library to parse the output into a Python dictionary.\n",
    "\n",
    "The API documentation details the format required for a search query:\n",
    "- https://nominatim.org/release-docs/latest/api/Search/ \n",
    "\n",
    "We will be using the [JSON WITH ADDRESS DETAILS](https://nominatim.org/release-docs/latest/api/Search/#json-with-address-details) format which requires the following parameters:\n",
    "\n",
    "1. An address to be queried (e.g., 'Canada' or 'Toronto' or '100 St George Street'\n",
    "2. **addressdetails** variable and a value from 0 to 2. 0 returns top level address information only, e.g., (country) whereas 2 returns the most detailed information available (e.g., house number).\n",
    "3. **limit** variable and a value of 1 to 5. The value indicates the number of values returned from an address query. For example, if you search for 'London' and set a limit of 1, only the first queried result will be returned, even if this address query may be associated with multiple locations.\n",
    "\n",
    "An example search query may therefore look like:\n",
    "\n",
    "- https://nominatim.openstreetmap.org/search?q=London&format=jsonv2&addressdetails=1&limit=1\n"
   ]
  },
  {
   "cell_type": "code",
   "execution_count": null,
   "id": "b1e8c276",
   "metadata": {},
   "outputs": [],
   "source": [
    "import requests\n",
    "import json"
   ]
  },
  {
   "cell_type": "code",
   "execution_count": null,
   "id": "1d29005a-9747-4ec0-8790-6f3a4bdfe22a",
   "metadata": {},
   "outputs": [],
   "source": [
    "def geocode(address):\n",
    "\n",
    "    try:\n",
    "        # Construct URL for Nominatim API request\n",
    "        url = \"https://nominatim.openstreetmap.org/search?q=\" + address + \"&format=jsonv2&addressdetails=2&limit=5\"\n",
    "\n",
    "        # Use get() method from requests library to send request to API and retrieve data in JSON format\n",
    "        response = requests.get(url)\n",
    "\n",
    "        # Convert data in JSON format into Python object for easier use\n",
    "        data = json.loads(response.content)\n",
    "        \n",
    "        # Switch this out with the next line if you want to see the full data that is being returned for all locations matching query\n",
    "        #return data \n",
    "\n",
    "        # Return only lat and long values from first location that matches the query [0]\n",
    "        return(data[0]['lon'], data[0]['lat']) \n",
    "    \n",
    "    except:\n",
    "        \n",
    "        return(0,0)"
   ]
  },
  {
   "cell_type": "markdown",
   "id": "b7d252e3-1419-4099-82dc-9d7267c306e2",
   "metadata": {},
   "source": [
    "Let's use our geocode function to return the coordinates for a place of interest in the cell below. I have added in 'Toronto' to get you started, however, I encourage you to try geocoding places of different scales (e.g., a building address vs a country).\n",
    "\n",
    "Consider the issue of geocoding a location which has the same name as another location (e.g., London, ON and London, UK). As our limit parameter is set to 5, you may switch out the line of code `#return data` in the cell above to see data for up to five locations that match the query. Notice how adding additional detail, such as a county or state improves the accuracy of the geocoding process."
   ]
  },
  {
   "cell_type": "code",
   "execution_count": null,
   "id": "72245c17-96df-4838-9c68-5c0f3b26d52b",
   "metadata": {},
   "outputs": [],
   "source": [
    "data = geocode('Toronto')\n",
    "data"
   ]
  },
  {
   "cell_type": "markdown",
   "id": "3feb3476",
   "metadata": {},
   "source": [
    "## 2. Applying the geocode function to tabulated building permit address data\n",
    "\n",
    "We'll be using cleared Building Permit data from the City of Toronto's Open Data catalogue: \n",
    "- https://open.toronto.ca/dataset/building-permits-cleared-permits/"
   ]
  },
  {
   "cell_type": "code",
   "execution_count": null,
   "id": "4de5306e-573e-4196-9ebb-32de62956bb7",
   "metadata": {},
   "outputs": [],
   "source": [
    "import pandas as pd\n",
    "import geopandas as gpd\n",
    "import time"
   ]
  },
  {
   "cell_type": "code",
   "execution_count": null,
   "id": "56e29f51-4e2c-4248-9e79-4582dc28623d",
   "metadata": {},
   "outputs": [],
   "source": [
    "df = pd.read_csv('clearedbuildingpermits_2017.csv', dtype=str)"
   ]
  },
  {
   "cell_type": "markdown",
   "id": "cfab3e7e-41ed-4af7-bf91-d54b78c4b6cb",
   "metadata": {},
   "source": [
    "Geocoding can take a while, so let's just work with a subset of this data. We will create a subset that includes data for any new Laneway housing that has been built since September 2023."
   ]
  },
  {
   "cell_type": "code",
   "execution_count": null,
   "id": "d2c0ec01",
   "metadata": {},
   "outputs": [],
   "source": [
    "df.head()"
   ]
  },
  {
   "cell_type": "code",
   "execution_count": null,
   "id": "bca28c7e-80c6-41c8-ba71-6df8ea7cd072",
   "metadata": {},
   "outputs": [],
   "source": [
    "df = df.loc[(df[\"WORK\"] == 'New Laneway / Rear Yard Suite') & (df[\"APPLICATION_DATE\"] >= '2023-09-01')]\n",
    "df"
   ]
  },
  {
   "cell_type": "markdown",
   "id": "22da93a3-cfbc-4976-99e0-dc657d44345d",
   "metadata": {},
   "source": [
    "We can see in the table above that we have columns for the address (STREET_NAME, STREET_TYPE, and STREET_NUM), but no spatial coordinates!\n"
   ]
  },
  {
   "cell_type": "markdown",
   "id": "54b693b2-e9b4-41f4-a487-54f31d36c43b",
   "metadata": {},
   "source": [
    "Now let's loop over the dataframe, trying to geocode each row with our `geocode` function. In line with Nominatim's [Usage Policy](https://operations.osmfoundation.org/policies/nominatim/), we will limit requests to a maximum of 1 per second:"
   ]
  },
  {
   "cell_type": "code",
   "execution_count": null,
   "id": "3bf02f1a-574d-4587-b2a9-70047e7e0f38",
   "metadata": {},
   "outputs": [],
   "source": [
    "%%time\n",
    "\n",
    "# Initialize empty lists to store coords and addresses\n",
    "coordinates = []\n",
    "addresses = []\n",
    "\n",
    "# Loop through each row in dataframe\n",
    "for index, row in df.iterrows():\n",
    "    \n",
    "    # Extract values for address components\n",
    "    street_number = row[\"STREET_NUM\"]\n",
    "    street_name = row[\"STREET_NAME\"]\n",
    "    street_type = row[\"STREET_TYPE\"]\n",
    "    street_dir = row[\"STREET_DIRECTION\"]\n",
    "    \n",
    "    # Concatenate values to build a search query for full address in TO\n",
    "    address = street_number + \" \" + street_name + \" \" + street_type + \" \" + street_dir + \" \" + \"Toronto, Canada\"\n",
    "    \n",
    "    # Check if address has already been processed\n",
    "    if address not in addresses:\n",
    "        \n",
    "        # Print address being processed\n",
    "        print(address)\n",
    "        \n",
    "        # Add address to list\n",
    "        addresses.append(address)\n",
    "    \n",
    "        # Use previously created function to geocode address\n",
    "        data = geocode(address)\n",
    "\n",
    "        # Ensure compliance with Nominatim usage policy by limiting requests to 1 per second\n",
    "        time.sleep(1)\n",
    "\n",
    "        # Add permit number, address, and coordinates to coords list\n",
    "        coordinates.append([row[\"PERMIT_NUM\"], address, data[0], data[1]])\n",
    "    "
   ]
  },
  {
   "cell_type": "markdown",
   "id": "8b355e75-845c-4561-8cf5-a47ed1623b95",
   "metadata": {},
   "source": [
    "We can save the output as a csv or convert it to geopandas GeoDataFrame (which could be further saved as a .geojson or any other spatial format)"
   ]
  },
  {
   "cell_type": "code",
   "execution_count": null,
   "id": "905c8e28-86f4-4174-adf1-8bd4940dca2b",
   "metadata": {},
   "outputs": [],
   "source": [
    "# Save output as pandas dataframe\n",
    "dfc = pd.DataFrame(coordinates, columns = ['PERMIT_NUM', 'address', 'X', 'Y'])\n",
    "\n",
    "# Export to csv\n",
    "dfc.to_csv(\"geocoded-building-permits.csv\")\n",
    "\n",
    "# Convert to GeoDataFrame\n",
    "dfc = gpd.GeoDataFrame(dfc, geometry=gpd.points_from_xy(dfc.X, dfc.Y))\n",
    "dfc"
   ]
  },
  {
   "cell_type": "code",
   "execution_count": null,
   "id": "ce9fcbc0-d49f-46c8-8b71-85c92c52f941",
   "metadata": {},
   "outputs": [],
   "source": [
    "dfc.plot()"
   ]
  },
  {
   "cell_type": "markdown",
   "id": "2e562a4e",
   "metadata": {},
   "source": [
    "## 3. Alternative approaches\n",
    "\n",
    "Writing our own Python function to access the Nominatim API is just one way to geocode address queries.\n",
    "\n",
    "The code below uses a class in the [`geopy`](https://geopy.readthedocs.io/en/stable/#nominatim) library to access the Nominatim geocoder, though there are many classes for alternative APIs! \n"
   ]
  },
  {
   "cell_type": "code",
   "execution_count": null,
   "id": "f7fa6269-bf3f-49ac-8646-7795b5a950b8",
   "metadata": {},
   "outputs": [],
   "source": [
    "import geopy\n",
    "from geopy.geocoders import Nominatim\n",
    "\n",
    "# Initialise new Nominatim client using geopy Nominatim class\n",
    "geolocator = Nominatim(user_agent=\"my-geocoder\")\n",
    "\n",
    "location = geolocator.geocode('Toronto')\n",
    "\n",
    "print(location, location.longitude, location.latitude)"
   ]
  },
  {
   "cell_type": "code",
   "execution_count": null,
   "id": "f69e5668",
   "metadata": {},
   "outputs": [],
   "source": [
    "coords = []\n",
    "\n",
    "# Loop through each row in dataframe\n",
    "for index, row in df.iterrows():\n",
    "    \n",
    "     # Extract values for address components\n",
    "    street_number = row[\"STREET_NUM\"]\n",
    "    street_name = row[\"STREET_NAME\"]\n",
    "    street_type = row[\"STREET_TYPE\"]\n",
    "    street_dir = row[\"STREET_DIRECTION\"]\n",
    "    \n",
    "    # Concatenate values to build a search query for full address in TO\n",
    "    address = street_number + \" \" + street_name + \" \" + street_type + \" \" + street_dir + \" \" + \"Toronto, Canada\"\n",
    "    \n",
    "    location = geolocator.geocode(address)\n",
    "    \n",
    "    coords.append([row[\"PERMIT_NUM\"], address, location.longitude, location.latitude])\n",
    "    \n",
    "# Save output as pandas dataframe etc...\n",
    "#dfc = pd.DataFrame(coords, columns = ['PERMIT_NUM', 'address', 'X', 'Y'])"
   ]
  },
  {
   "cell_type": "markdown",
   "id": "a9978c81",
   "metadata": {},
   "source": [
    "You may also use GIS software. The following tutorials demosntrate how to geocode addresses using plugins in QGIS:\n",
    "\n",
    "- [GeoCoding and mmqgis](https://guides.library.ucsc.edu/DS/Resources/QGIS) (UC Santa Cruz)\n",
    "- [mmqgis](https://www.lib.uwo.ca/madgic/projects/gis/Geocoding%20Using%20QGIS.pdf) (Western)\n",
    "\n",
    "If you have access to an Esri licence, [dragging a csv into a map in ArcOnline](https://support.esri.com/en-us/knowledge-base/how-to-geocode-addresses-from-an-imported-csv-file-in-a-000021263) is a super quick way to plot places of interest!\n",
    "    "
   ]
  }
 ],
 "metadata": {
  "kernelspec": {
   "display_name": "Python 3 (ipykernel)",
   "language": "python",
   "name": "python3"
  },
  "language_info": {
   "codemirror_mode": {
    "name": "ipython",
    "version": 3
   },
   "file_extension": ".py",
   "mimetype": "text/x-python",
   "name": "python",
   "nbconvert_exporter": "python",
   "pygments_lexer": "ipython3",
   "version": "3.9.12"
  }
 },
 "nbformat": 4,
 "nbformat_minor": 5
}
