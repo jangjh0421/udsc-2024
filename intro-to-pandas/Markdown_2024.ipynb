{
 "cells": [
  {
   "cell_type": "markdown",
   "id": "44fd0e15-6b7c-47ef-b9df-cace3a6d8488",
   "metadata": {},
   "source": [
    "# Hello\n",
    "\n",
    "Hi I'm some **markdown** text <br><br>\n",
    "Markdown is useful for organizing and informally presenting code."
   ]
  },
  {
   "cell_type": "markdown",
   "id": "62225282",
   "metadata": {},
   "source": [
    "This is a Markdown cell."
   ]
  },
  {
   "cell_type": "code",
   "execution_count": null,
   "id": "1091e11f",
   "metadata": {},
   "outputs": [],
   "source": [
    "Let's make this python cell into a Markdown cell!"
   ]
  },
  {
   "cell_type": "markdown",
   "id": "0b4bda7e",
   "metadata": {},
   "source": [
    "\n",
    "---\n"
   ]
  },
  {
   "cell_type": "markdown",
   "id": "2581ab12",
   "metadata": {},
   "source": [
    "# Markdown Tips & Tricks"
   ]
  },
  {
   "cell_type": "markdown",
   "id": "a36329f4",
   "metadata": {},
   "source": [
    "## Table of Contents\n",
    "\n",
    "* [Horizontal Line](#line)\n",
    "* [Links](#links)\n",
    "* [Headers](#headers)\n",
    "* [Bullet Point List](#bullets)\n",
    "* [Numbered List](#numbers)\n",
    "* [Bold/Italics](#text)\n",
    "* [Blockquote](#quote)\n",
    "* [Image](#image)\n",
    "* [Reference Variables and Functions](#vars)"
   ]
  },
  {
   "cell_type": "markdown",
   "id": "6a415f84",
   "metadata": {},
   "source": [
    " <a class=\"anchor\" id=\"line\"></a>\n",
    " \n",
    "---\n"
   ]
  },
  {
   "cell_type": "markdown",
   "id": "78868f63",
   "metadata": {},
   "source": [
    " <a class=\"anchor\" id=\"links\"></a>\n",
    " [link to websites](https://schoolofcities.utoronto.ca/learning-sofc/udsc/) "
   ]
  },
  {
   "cell_type": "markdown",
   "id": "65d9e7b0",
   "metadata": {},
   "source": [
    "<a class=\"anchor\" id=\"headers\"></a>\n",
    "# Indicate  \n",
    "## Levels of\n",
    "### Header\n",
    "#### Hierarchy"
   ]
  },
  {
   "cell_type": "markdown",
   "id": "64c73a2e",
   "metadata": {},
   "source": [
    "<a class=\"anchor\" id=\"bullets\"></a>\n",
    "- make  \n",
    "- a \n",
    "- bullet\n",
    "- point\n",
    "- list\n",
    "    - indented\n",
    "    - indented"
   ]
  },
  {
   "cell_type": "markdown",
   "id": "8aaa106e",
   "metadata": {},
   "source": [
    "<a class=\"anchor\" id=\"numbers\"></a>\n",
    "1. make  \n",
    "2. a \n",
    "3. numbered\n",
    "4. list\n",
    "    1. indented\n",
    "    2. indented"
   ]
  },
  {
   "cell_type": "markdown",
   "id": "21c4896e",
   "metadata": {},
   "source": [
    "<a class=\"anchor\" id=\"text\"></a>\n",
    "**bold** <br>  \n",
    "_italics_"
   ]
  },
  {
   "cell_type": "markdown",
   "id": "34a3e00a",
   "metadata": {
    "slideshow": {
     "slide_type": "subslide"
    }
   },
   "source": [
    " <a class=\"anchor\" id=\"quote\"></a>\n",
    "> Add a blockquote. "
   ]
  },
  {
   "cell_type": "markdown",
   "id": "b6b79bdd",
   "metadata": {},
   "source": [
    "<a class=\"anchor\" id=\"image\"></a> \n",
    "Add images (make sure this is in the same directory you are working in)  \n",
    "![](AndOr.png) "
   ]
  },
  {
   "cell_type": "markdown",
   "id": "6dc2b5c8",
   "metadata": {},
   "source": [
    "<a class=\"anchor\" id=\"vars\"></a>\n",
    "Differentiate between `varnames` and `function_names` and context.  "
   ]
  }
 ],
 "metadata": {
  "kernelspec": {
   "display_name": "Python 3 (ipykernel)",
   "language": "python",
   "name": "python3"
  },
  "language_info": {
   "codemirror_mode": {
    "name": "ipython",
    "version": 3
   },
   "file_extension": ".py",
   "mimetype": "text/x-python",
   "name": "python",
   "nbconvert_exporter": "python",
   "pygments_lexer": "ipython3",
   "version": "3.11.6"
  }
 },
 "nbformat": 4,
 "nbformat_minor": 5
}
