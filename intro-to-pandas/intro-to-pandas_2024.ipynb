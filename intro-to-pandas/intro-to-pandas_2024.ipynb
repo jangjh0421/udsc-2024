{
 "cells": [
  {
   "cell_type": "markdown",
   "id": "3150e387-db76-4557-b560-d4d4c6e6ed43",
   "metadata": {},
   "source": [
    "## Introduction to pandas"
   ]
  },
  {
   "cell_type": "markdown",
   "id": "5a6a0a29-8864-4b85-89ec-9966a2cfc293",
   "metadata": {},
   "source": [
    "**pandas** is a Python library for analyzing and organizing tabular data. It's probably the most common library for working with both big and small datasets in Python, and is the basis for working with more analytical packages (e.g. scikit-learn) and analyzing geographic data (e.g. geopandas)\n",
    "\n",
    "This notebook provides an intro to pandas for analyzing urban data. We'll be learning the following\n",
    "- how to [load](#load) and [save](#save) datasets into pandas DataFrames\n",
    "- computing [descriptive statistics](#descstats)\n",
    "- [rename columns](#rename)\n",
    "- [filtering](#filter) DataFrames\n",
    "- generating [new columns](#newcol)\n",
    "- [aggregating and summarizing](#aggsum) data by groups"
   ]
  },
  {
   "cell_type": "code",
   "execution_count": 2,
   "id": "8a39395c-df1a-4415-8840-800e2d3129d2",
   "metadata": {},
   "outputs": [],
   "source": [
    "# import pandas library\n",
    "import pandas as pd"
   ]
  },
  {
   "cell_type": "markdown",
   "id": "398c5135-f78c-464f-beb4-527eb387b647",
   "metadata": {},
   "source": [
    "<a class=\"anchor\" id=\"load\"></a>\n",
    "Let's first take a look at a small dataset, Canadian municipalities and their population in 2021 and 2016, based on Census data. In Statistics Canada lingo, these are called [Census Subdivisions](https://www12.statcan.gc.ca/census-recensement/2021/ref/dict/az/Definition-eng.cfm?ID=geo012). This dataset only includes municipalities with a population greater than 25,000 in 2021.\n",
    "\n",
    "The main method for loading csv data is to use the [read_csv](https://pandas.pydata.org/pandas-docs/stable/reference/api/pandas.read_csv.html) function, but pandas can also read many other [data formats](https://pandas.pydata.org/pandas-docs/stable/reference/io.html)."
   ]
  },
  {
   "cell_type": "code",
   "execution_count": 3,
   "id": "aa699ec9-fb80-4bc3-92aa-c775941cd852",
   "metadata": {},
   "outputs": [],
   "source": [
    "# read cities csv as df\n",
    "df = pd.read_csv(\"cities.csv\")"
   ]
  },
  {
   "cell_type": "markdown",
   "id": "7a38e1d5-6e9d-440c-8f7d-1c4a1dab17dd",
   "metadata": {},
   "source": [
    "Great! Now our data should be loaded to a DataFrame called `df`. We can print this and explore. Adding the function `.head()` or `.tail()` prints the top or bottom rows of the DataFrame. i.e. the following prints the top 10 rows in the DataFrame"
   ]
  },
  {
   "cell_type": "code",
   "execution_count": 4,
   "id": "68157290-3bb8-4b6a-b1a5-3bb07686c7cd",
   "metadata": {},
   "outputs": [
    {
     "data": {
      "text/html": [
       "<div>\n",
       "<style scoped>\n",
       "    .dataframe tbody tr th:only-of-type {\n",
       "        vertical-align: middle;\n",
       "    }\n",
       "\n",
       "    .dataframe tbody tr th {\n",
       "        vertical-align: top;\n",
       "    }\n",
       "\n",
       "    .dataframe thead th {\n",
       "        text-align: right;\n",
       "    }\n",
       "</style>\n",
       "<table border=\"1\" class=\"dataframe\">\n",
       "  <thead>\n",
       "    <tr style=\"text-align: right;\">\n",
       "      <th></th>\n",
       "      <th>Name</th>\n",
       "      <th>Prov/terr</th>\n",
       "      <th>Population, 2021</th>\n",
       "      <th>Population, 2016</th>\n",
       "    </tr>\n",
       "  </thead>\n",
       "  <tbody>\n",
       "    <tr>\n",
       "      <th>0</th>\n",
       "      <td>Abbotsford</td>\n",
       "      <td>B.C.</td>\n",
       "      <td>153524</td>\n",
       "      <td>141397</td>\n",
       "    </tr>\n",
       "    <tr>\n",
       "      <th>1</th>\n",
       "      <td>Airdrie</td>\n",
       "      <td>Alta.</td>\n",
       "      <td>74100</td>\n",
       "      <td>61581</td>\n",
       "    </tr>\n",
       "    <tr>\n",
       "      <th>2</th>\n",
       "      <td>Ajax</td>\n",
       "      <td>Ont.</td>\n",
       "      <td>126666</td>\n",
       "      <td>119677</td>\n",
       "    </tr>\n",
       "    <tr>\n",
       "      <th>3</th>\n",
       "      <td>Alma</td>\n",
       "      <td>Que.</td>\n",
       "      <td>30331</td>\n",
       "      <td>30771</td>\n",
       "    </tr>\n",
       "    <tr>\n",
       "      <th>4</th>\n",
       "      <td>Aurora</td>\n",
       "      <td>Ont.</td>\n",
       "      <td>62057</td>\n",
       "      <td>55445</td>\n",
       "    </tr>\n",
       "    <tr>\n",
       "      <th>5</th>\n",
       "      <td>Barrie</td>\n",
       "      <td>Ont.</td>\n",
       "      <td>147829</td>\n",
       "      <td>141434</td>\n",
       "    </tr>\n",
       "    <tr>\n",
       "      <th>6</th>\n",
       "      <td>Belleville</td>\n",
       "      <td>Ont.</td>\n",
       "      <td>55071</td>\n",
       "      <td>50716</td>\n",
       "    </tr>\n",
       "    <tr>\n",
       "      <th>7</th>\n",
       "      <td>Blainville</td>\n",
       "      <td>Que.</td>\n",
       "      <td>59819</td>\n",
       "      <td>56863</td>\n",
       "    </tr>\n",
       "    <tr>\n",
       "      <th>8</th>\n",
       "      <td>Boisbriand</td>\n",
       "      <td>Que.</td>\n",
       "      <td>28308</td>\n",
       "      <td>26884</td>\n",
       "    </tr>\n",
       "    <tr>\n",
       "      <th>9</th>\n",
       "      <td>Boucherville</td>\n",
       "      <td>Que.</td>\n",
       "      <td>41743</td>\n",
       "      <td>41671</td>\n",
       "    </tr>\n",
       "  </tbody>\n",
       "</table>\n",
       "</div>"
      ],
      "text/plain": [
       "           Name Prov/terr  Population, 2021  Population, 2016\n",
       "0    Abbotsford      B.C.            153524            141397\n",
       "1       Airdrie     Alta.             74100             61581\n",
       "2          Ajax      Ont.            126666            119677\n",
       "3          Alma      Que.             30331             30771\n",
       "4        Aurora      Ont.             62057             55445\n",
       "5        Barrie      Ont.            147829            141434\n",
       "6    Belleville      Ont.             55071             50716\n",
       "7    Blainville      Que.             59819             56863\n",
       "8    Boisbriand      Que.             28308             26884\n",
       "9  Boucherville      Que.             41743             41671"
      ]
     },
     "execution_count": 4,
     "metadata": {},
     "output_type": "execute_result"
    }
   ],
   "source": [
    "df.head(10)"
   ]
  },
  {
   "cell_type": "markdown",
   "id": "494a43a2",
   "metadata": {},
   "source": [
    "<a class=\"anchor\" id=\"descstats\"></a>\n",
    "Let's take a look at the descriptive statistics of our variables using the `.describe()` method."
   ]
  },
  {
   "cell_type": "code",
   "execution_count": 5,
   "id": "896215b9",
   "metadata": {},
   "outputs": [
    {
     "data": {
      "text/html": [
       "<div>\n",
       "<style scoped>\n",
       "    .dataframe tbody tr th:only-of-type {\n",
       "        vertical-align: middle;\n",
       "    }\n",
       "\n",
       "    .dataframe tbody tr th {\n",
       "        vertical-align: top;\n",
       "    }\n",
       "\n",
       "    .dataframe thead th {\n",
       "        text-align: right;\n",
       "    }\n",
       "</style>\n",
       "<table border=\"1\" class=\"dataframe\">\n",
       "  <thead>\n",
       "    <tr style=\"text-align: right;\">\n",
       "      <th></th>\n",
       "      <th>Population, 2021</th>\n",
       "      <th>Population, 2016</th>\n",
       "    </tr>\n",
       "  </thead>\n",
       "  <tbody>\n",
       "    <tr>\n",
       "      <th>count</th>\n",
       "      <td>1.790000e+02</td>\n",
       "      <td>1.790000e+02</td>\n",
       "    </tr>\n",
       "    <tr>\n",
       "      <th>mean</th>\n",
       "      <td>1.502916e+05</td>\n",
       "      <td>1.420523e+05</td>\n",
       "    </tr>\n",
       "    <tr>\n",
       "      <th>std</th>\n",
       "      <td>2.981346e+05</td>\n",
       "      <td>2.869997e+05</td>\n",
       "    </tr>\n",
       "    <tr>\n",
       "      <th>min</th>\n",
       "      <td>2.554500e+04</td>\n",
       "      <td>2.378700e+04</td>\n",
       "    </tr>\n",
       "    <tr>\n",
       "      <th>25%</th>\n",
       "      <td>3.648150e+04</td>\n",
       "      <td>3.400900e+04</td>\n",
       "    </tr>\n",
       "    <tr>\n",
       "      <th>50%</th>\n",
       "      <td>6.311600e+04</td>\n",
       "      <td>6.116100e+04</td>\n",
       "    </tr>\n",
       "    <tr>\n",
       "      <th>75%</th>\n",
       "      <td>1.295755e+05</td>\n",
       "      <td>1.157165e+05</td>\n",
       "    </tr>\n",
       "    <tr>\n",
       "      <th>max</th>\n",
       "      <td>2.794356e+06</td>\n",
       "      <td>2.731571e+06</td>\n",
       "    </tr>\n",
       "  </tbody>\n",
       "</table>\n",
       "</div>"
      ],
      "text/plain": [
       "       Population, 2021  Population, 2016\n",
       "count      1.790000e+02      1.790000e+02\n",
       "mean       1.502916e+05      1.420523e+05\n",
       "std        2.981346e+05      2.869997e+05\n",
       "min        2.554500e+04      2.378700e+04\n",
       "25%        3.648150e+04      3.400900e+04\n",
       "50%        6.311600e+04      6.116100e+04\n",
       "75%        1.295755e+05      1.157165e+05\n",
       "max        2.794356e+06      2.731571e+06"
      ]
     },
     "execution_count": 5,
     "metadata": {},
     "output_type": "execute_result"
    }
   ],
   "source": [
    "df.describe()"
   ]
  },
  {
   "cell_type": "markdown",
   "id": "91219e22",
   "metadata": {},
   "source": [
    "We add the `include = \"object\"` argument to look at some summary statistics of our qualitative variables."
   ]
  },
  {
   "cell_type": "code",
   "execution_count": 6,
   "id": "81902415",
   "metadata": {},
   "outputs": [
    {
     "data": {
      "text/html": [
       "<div>\n",
       "<style scoped>\n",
       "    .dataframe tbody tr th:only-of-type {\n",
       "        vertical-align: middle;\n",
       "    }\n",
       "\n",
       "    .dataframe tbody tr th {\n",
       "        vertical-align: top;\n",
       "    }\n",
       "\n",
       "    .dataframe thead th {\n",
       "        text-align: right;\n",
       "    }\n",
       "</style>\n",
       "<table border=\"1\" class=\"dataframe\">\n",
       "  <thead>\n",
       "    <tr style=\"text-align: right;\">\n",
       "      <th></th>\n",
       "      <th>Name</th>\n",
       "      <th>Prov/terr</th>\n",
       "    </tr>\n",
       "  </thead>\n",
       "  <tbody>\n",
       "    <tr>\n",
       "      <th>count</th>\n",
       "      <td>179</td>\n",
       "      <td>179</td>\n",
       "    </tr>\n",
       "    <tr>\n",
       "      <th>unique</th>\n",
       "      <td>177</td>\n",
       "      <td>11</td>\n",
       "    </tr>\n",
       "    <tr>\n",
       "      <th>top</th>\n",
       "      <td>Langley</td>\n",
       "      <td>Ont.</td>\n",
       "    </tr>\n",
       "    <tr>\n",
       "      <th>freq</th>\n",
       "      <td>2</td>\n",
       "      <td>69</td>\n",
       "    </tr>\n",
       "  </tbody>\n",
       "</table>\n",
       "</div>"
      ],
      "text/plain": [
       "           Name Prov/terr\n",
       "count       179       179\n",
       "unique      177        11\n",
       "top     Langley      Ont.\n",
       "freq          2        69"
      ]
     },
     "execution_count": 6,
     "metadata": {},
     "output_type": "execute_result"
    }
   ],
   "source": [
    "df.describe(include = 'object')"
   ]
  },
  {
   "cell_type": "markdown",
   "id": "d1c8107b",
   "metadata": {},
   "source": [
    "We can also use the `.value_counts()` method to observe the distribution of our qualitative variables..."
   ]
  },
  {
   "cell_type": "code",
   "execution_count": 7,
   "id": "b3b4a8b3",
   "metadata": {},
   "outputs": [
    {
     "data": {
      "text/plain": [
       "Prov/terr\n",
       "Ont.      69\n",
       "Que.      45\n",
       "B.C.      31\n",
       "Alta.     17\n",
       "N.B.       4\n",
       "Sask.      4\n",
       "N.S.       3\n",
       "Man.       2\n",
       "N.L.       2\n",
       "P.E.I.     1\n",
       "Y.T.       1\n",
       "Name: count, dtype: int64"
      ]
     },
     "execution_count": 7,
     "metadata": {},
     "output_type": "execute_result"
    }
   ],
   "source": [
    "qual_dist = df[\"Prov/terr\"].value_counts()\n",
    "qual_dist"
   ]
  },
  {
   "cell_type": "markdown",
   "id": "4c2f2518",
   "metadata": {},
   "source": [
    "... And visualize it!"
   ]
  },
  {
   "cell_type": "code",
   "execution_count": 8,
   "id": "91bac05e",
   "metadata": {},
   "outputs": [
    {
     "data": {
      "text/plain": [
       "<Axes: xlabel='Prov/terr'>"
      ]
     },
     "execution_count": 8,
     "metadata": {},
     "output_type": "execute_result"
    },
    {
     "data": {
      "image/png": "[encoded data removed]",
      "text/plain": [
       "<Figure size 640x480 with 1 Axes>"
      ]
     },
     "metadata": {},
     "output_type": "display_data"
    }
   ],
   "source": [
    "qual_dist.plot(kind = \"bar\")"
   ]
  },
  {
   "cell_type": "markdown",
   "id": "53342f2a-ea58-4998-8853-30adb0844a87",
   "metadata": {},
   "source": [
    "pandas has a number of functions for **manipulating** DataFrames like this. <br>\n",
    "\n",
    "<a class=\"anchor\" id=\"rename\"></a>\n",
    "For example, the column names in this dataframe are lengthy. Let's rename these columns to something that's easier to work with.\n"
   ]
  },
  {
   "cell_type": "code",
   "execution_count": 9,
   "id": "fdf85213",
   "metadata": {},
   "outputs": [
    {
     "data": {
      "text/html": [
       "<div>\n",
       "<style scoped>\n",
       "    .dataframe tbody tr th:only-of-type {\n",
       "        vertical-align: middle;\n",
       "    }\n",
       "\n",
       "    .dataframe tbody tr th {\n",
       "        vertical-align: top;\n",
       "    }\n",
       "\n",
       "    .dataframe thead th {\n",
       "        text-align: right;\n",
       "    }\n",
       "</style>\n",
       "<table border=\"1\" class=\"dataframe\">\n",
       "  <thead>\n",
       "    <tr style=\"text-align: right;\">\n",
       "      <th></th>\n",
       "      <th>city</th>\n",
       "      <th>prov</th>\n",
       "      <th>pop21</th>\n",
       "      <th>pop16</th>\n",
       "    </tr>\n",
       "  </thead>\n",
       "  <tbody>\n",
       "    <tr>\n",
       "      <th>0</th>\n",
       "      <td>Abbotsford</td>\n",
       "      <td>B.C.</td>\n",
       "      <td>153524</td>\n",
       "      <td>141397</td>\n",
       "    </tr>\n",
       "    <tr>\n",
       "      <th>1</th>\n",
       "      <td>Airdrie</td>\n",
       "      <td>Alta.</td>\n",
       "      <td>74100</td>\n",
       "      <td>61581</td>\n",
       "    </tr>\n",
       "    <tr>\n",
       "      <th>2</th>\n",
       "      <td>Ajax</td>\n",
       "      <td>Ont.</td>\n",
       "      <td>126666</td>\n",
       "      <td>119677</td>\n",
       "    </tr>\n",
       "    <tr>\n",
       "      <th>3</th>\n",
       "      <td>Alma</td>\n",
       "      <td>Que.</td>\n",
       "      <td>30331</td>\n",
       "      <td>30771</td>\n",
       "    </tr>\n",
       "    <tr>\n",
       "      <th>4</th>\n",
       "      <td>Aurora</td>\n",
       "      <td>Ont.</td>\n",
       "      <td>62057</td>\n",
       "      <td>55445</td>\n",
       "    </tr>\n",
       "    <tr>\n",
       "      <th>...</th>\n",
       "      <td>...</td>\n",
       "      <td>...</td>\n",
       "      <td>...</td>\n",
       "      <td>...</td>\n",
       "    </tr>\n",
       "    <tr>\n",
       "      <th>174</th>\n",
       "      <td>Windsor</td>\n",
       "      <td>Ont.</td>\n",
       "      <td>229660</td>\n",
       "      <td>217188</td>\n",
       "    </tr>\n",
       "    <tr>\n",
       "      <th>175</th>\n",
       "      <td>Winnipeg</td>\n",
       "      <td>Man.</td>\n",
       "      <td>749607</td>\n",
       "      <td>705244</td>\n",
       "    </tr>\n",
       "    <tr>\n",
       "      <th>176</th>\n",
       "      <td>Wood Buffalo</td>\n",
       "      <td>Alta.</td>\n",
       "      <td>72326</td>\n",
       "      <td>71594</td>\n",
       "    </tr>\n",
       "    <tr>\n",
       "      <th>177</th>\n",
       "      <td>Woodstock</td>\n",
       "      <td>Ont.</td>\n",
       "      <td>46705</td>\n",
       "      <td>41098</td>\n",
       "    </tr>\n",
       "    <tr>\n",
       "      <th>178</th>\n",
       "      <td>Woolwich</td>\n",
       "      <td>Ont.</td>\n",
       "      <td>26999</td>\n",
       "      <td>25006</td>\n",
       "    </tr>\n",
       "  </tbody>\n",
       "</table>\n",
       "<p>179 rows × 4 columns</p>\n",
       "</div>"
      ],
      "text/plain": [
       "             city   prov   pop21   pop16\n",
       "0      Abbotsford   B.C.  153524  141397\n",
       "1         Airdrie  Alta.   74100   61581\n",
       "2            Ajax   Ont.  126666  119677\n",
       "3            Alma   Que.   30331   30771\n",
       "4          Aurora   Ont.   62057   55445\n",
       "..            ...    ...     ...     ...\n",
       "174       Windsor   Ont.  229660  217188\n",
       "175      Winnipeg   Man.  749607  705244\n",
       "176  Wood Buffalo  Alta.   72326   71594\n",
       "177     Woodstock   Ont.   46705   41098\n",
       "178      Woolwich   Ont.   26999   25006\n",
       "\n",
       "[179 rows x 4 columns]"
      ]
     },
     "execution_count": 9,
     "metadata": {},
     "output_type": "execute_result"
    }
   ],
   "source": [
    "# name_dictionary = {old_name : new_name, ...}\n",
    "newNames = {'Name' : 'city',\n",
    "           'Prov/terr' : 'prov',\n",
    "           \"Population, 2021\": 'pop21',\n",
    "           \"Population, 2016\" : 'pop16'}\n",
    "\n",
    "df.rename(columns = newNames, inplace = True)\n",
    "\n",
    "df"
   ]
  },
  {
   "cell_type": "markdown",
   "id": "9da58e92",
   "metadata": {},
   "source": [
    "Also, it looks like the data are are sorted by their name, but what if we wanted to sort by `pop21`? We can use the [sort_values](https://pandas.pydata.org/pandas-docs/stable/reference/api/pandas.DataFrame.sort_values.html?highlight=sort_values#pandas.DataFrame.sort_values) function.\n",
    "\n",
    "The default is to sort in ascending order, so we set this to be `False` (i.e. descending) so the most populous cities are at the top."
   ]
  },
  {
   "cell_type": "code",
   "execution_count": 10,
   "id": "35af5d50-99ac-4dcb-b5dc-2aea6b113b1d",
   "metadata": {},
   "outputs": [
    {
     "data": {
      "text/html": [
       "<div>\n",
       "<style scoped>\n",
       "    .dataframe tbody tr th:only-of-type {\n",
       "        vertical-align: middle;\n",
       "    }\n",
       "\n",
       "    .dataframe tbody tr th {\n",
       "        vertical-align: top;\n",
       "    }\n",
       "\n",
       "    .dataframe thead th {\n",
       "        text-align: right;\n",
       "    }\n",
       "</style>\n",
       "<table border=\"1\" class=\"dataframe\">\n",
       "  <thead>\n",
       "    <tr style=\"text-align: right;\">\n",
       "      <th></th>\n",
       "      <th>city</th>\n",
       "      <th>prov</th>\n",
       "      <th>pop21</th>\n",
       "      <th>pop16</th>\n",
       "    </tr>\n",
       "  </thead>\n",
       "  <tbody>\n",
       "    <tr>\n",
       "      <th>158</th>\n",
       "      <td>Toronto</td>\n",
       "      <td>Ont.</td>\n",
       "      <td>2794356</td>\n",
       "      <td>2731571</td>\n",
       "    </tr>\n",
       "    <tr>\n",
       "      <th>89</th>\n",
       "      <td>Montréal</td>\n",
       "      <td>Que.</td>\n",
       "      <td>1762949</td>\n",
       "      <td>1704694</td>\n",
       "    </tr>\n",
       "    <tr>\n",
       "      <th>19</th>\n",
       "      <td>Calgary</td>\n",
       "      <td>Alta.</td>\n",
       "      <td>1306784</td>\n",
       "      <td>1239220</td>\n",
       "    </tr>\n",
       "    <tr>\n",
       "      <th>106</th>\n",
       "      <td>Ottawa</td>\n",
       "      <td>Ont.</td>\n",
       "      <td>1017449</td>\n",
       "      <td>934243</td>\n",
       "    </tr>\n",
       "    <tr>\n",
       "      <th>42</th>\n",
       "      <td>Edmonton</td>\n",
       "      <td>Alta.</td>\n",
       "      <td>1010899</td>\n",
       "      <td>933088</td>\n",
       "    </tr>\n",
       "  </tbody>\n",
       "</table>\n",
       "</div>"
      ],
      "text/plain": [
       "         city   prov    pop21    pop16\n",
       "158   Toronto   Ont.  2794356  2731571\n",
       "89   Montréal   Que.  1762949  1704694\n",
       "19    Calgary  Alta.  1306784  1239220\n",
       "106    Ottawa   Ont.  1017449   934243\n",
       "42   Edmonton  Alta.  1010899   933088"
      ]
     },
     "execution_count": 10,
     "metadata": {},
     "output_type": "execute_result"
    }
   ],
   "source": [
    "df.sort_values('pop21', ascending = False).head(5)"
   ]
  },
  {
   "cell_type": "markdown",
   "id": "eed5729e-c68d-4fe7-9d0d-e4d1adfaf082",
   "metadata": {},
   "source": [
    "<a class=\"anchor\" id=\"filter\"></a>\n",
    "We can also easily filter the DataFrame. Let's show only municipalities in Ontario. "
   ]
  },
  {
   "cell_type": "code",
   "execution_count": 11,
   "id": "6ff577ac-f476-483b-a7f0-2029a3dc9ffd",
   "metadata": {},
   "outputs": [
    {
     "data": {
      "text/html": [
       "<div>\n",
       "<style scoped>\n",
       "    .dataframe tbody tr th:only-of-type {\n",
       "        vertical-align: middle;\n",
       "    }\n",
       "\n",
       "    .dataframe tbody tr th {\n",
       "        vertical-align: top;\n",
       "    }\n",
       "\n",
       "    .dataframe thead th {\n",
       "        text-align: right;\n",
       "    }\n",
       "</style>\n",
       "<table border=\"1\" class=\"dataframe\">\n",
       "  <thead>\n",
       "    <tr style=\"text-align: right;\">\n",
       "      <th></th>\n",
       "      <th>city</th>\n",
       "      <th>prov</th>\n",
       "      <th>pop21</th>\n",
       "      <th>pop16</th>\n",
       "    </tr>\n",
       "  </thead>\n",
       "  <tbody>\n",
       "    <tr>\n",
       "      <th>158</th>\n",
       "      <td>Toronto</td>\n",
       "      <td>Ont.</td>\n",
       "      <td>2794356</td>\n",
       "      <td>2731571</td>\n",
       "    </tr>\n",
       "    <tr>\n",
       "      <th>106</th>\n",
       "      <td>Ottawa</td>\n",
       "      <td>Ont.</td>\n",
       "      <td>1017449</td>\n",
       "      <td>934243</td>\n",
       "    </tr>\n",
       "    <tr>\n",
       "      <th>87</th>\n",
       "      <td>Mississauga</td>\n",
       "      <td>Ont.</td>\n",
       "      <td>717961</td>\n",
       "      <td>721599</td>\n",
       "    </tr>\n",
       "    <tr>\n",
       "      <th>11</th>\n",
       "      <td>Brampton</td>\n",
       "      <td>Ont.</td>\n",
       "      <td>656480</td>\n",
       "      <td>593638</td>\n",
       "    </tr>\n",
       "    <tr>\n",
       "      <th>56</th>\n",
       "      <td>Hamilton</td>\n",
       "      <td>Ont.</td>\n",
       "      <td>569353</td>\n",
       "      <td>536917</td>\n",
       "    </tr>\n",
       "    <tr>\n",
       "      <th>76</th>\n",
       "      <td>London</td>\n",
       "      <td>Ont.</td>\n",
       "      <td>422324</td>\n",
       "      <td>383822</td>\n",
       "    </tr>\n",
       "    <tr>\n",
       "      <th>81</th>\n",
       "      <td>Markham</td>\n",
       "      <td>Ont.</td>\n",
       "      <td>338503</td>\n",
       "      <td>328966</td>\n",
       "    </tr>\n",
       "    <tr>\n",
       "      <th>163</th>\n",
       "      <td>Vaughan</td>\n",
       "      <td>Ont.</td>\n",
       "      <td>323103</td>\n",
       "      <td>306233</td>\n",
       "    </tr>\n",
       "  </tbody>\n",
       "</table>\n",
       "</div>"
      ],
      "text/plain": [
       "            city  prov    pop21    pop16\n",
       "158      Toronto  Ont.  2794356  2731571\n",
       "106       Ottawa  Ont.  1017449   934243\n",
       "87   Mississauga  Ont.   717961   721599\n",
       "11      Brampton  Ont.   656480   593638\n",
       "56      Hamilton  Ont.   569353   536917\n",
       "76        London  Ont.   422324   383822\n",
       "81       Markham  Ont.   338503   328966\n",
       "163      Vaughan  Ont.   323103   306233"
      ]
     },
     "execution_count": 11,
     "metadata": {},
     "output_type": "execute_result"
    }
   ],
   "source": [
    "df.loc[df[\"prov\"] == \"Ont.\"].sort_values('pop21', ascending = False).head(8)\n",
    "# find rows in df where the Prov/terr value is \"Ont\"\n",
    "# then sort the values by 2021 Population from high to low\n",
    "# show the top 8 most populous cities"
   ]
  },
  {
   "cell_type": "markdown",
   "id": "66842bb5-1be8-46dc-af64-278096615187",
   "metadata": {},
   "source": [
    "Looks like their are only these 4! You can try filtering for other provinces. If you want to get a list of all the provinces in the dataset, we can run the `unique()` function on the series."
   ]
  },
  {
   "cell_type": "code",
   "execution_count": 12,
   "id": "12b2f8ff-175e-493c-a9e2-1cf17bfd637d",
   "metadata": {},
   "outputs": [
    {
     "data": {
      "text/plain": [
       "array(['B.C.', 'Alta.', 'Ont.', 'Que.', 'Man.', 'N.S.', 'P.E.I.', 'N.L.',\n",
       "       'N.B.', 'Sask.', 'Y.T.'], dtype=object)"
      ]
     },
     "execution_count": 12,
     "metadata": {},
     "output_type": "execute_result"
    }
   ],
   "source": [
    "df[\"prov\"].unique()"
   ]
  },
  {
   "cell_type": "markdown",
   "id": "3d50ce20-055f-4a11-aa51-2a9ebfb265b4",
   "metadata": {},
   "source": [
    "We can query by any of these 11. (There are no municipalities in Northwest Territories and Nunavut with a population greater than 25,000). \n",
    "\n",
    "We can also filter on more than one column, for example, let's try to find all the municipalities in Ontario that have a population greater than 500,000."
   ]
  },
  {
   "cell_type": "code",
   "execution_count": 13,
   "id": "9fac418a-ef31-4cc5-9fd9-969f713a1426",
   "metadata": {},
   "outputs": [
    {
     "data": {
      "text/html": [
       "<div>\n",
       "<style scoped>\n",
       "    .dataframe tbody tr th:only-of-type {\n",
       "        vertical-align: middle;\n",
       "    }\n",
       "\n",
       "    .dataframe tbody tr th {\n",
       "        vertical-align: top;\n",
       "    }\n",
       "\n",
       "    .dataframe thead th {\n",
       "        text-align: right;\n",
       "    }\n",
       "</style>\n",
       "<table border=\"1\" class=\"dataframe\">\n",
       "  <thead>\n",
       "    <tr style=\"text-align: right;\">\n",
       "      <th></th>\n",
       "      <th>city</th>\n",
       "      <th>prov</th>\n",
       "      <th>pop21</th>\n",
       "      <th>pop16</th>\n",
       "    </tr>\n",
       "  </thead>\n",
       "  <tbody>\n",
       "    <tr>\n",
       "      <th>11</th>\n",
       "      <td>Brampton</td>\n",
       "      <td>Ont.</td>\n",
       "      <td>656480</td>\n",
       "      <td>593638</td>\n",
       "    </tr>\n",
       "    <tr>\n",
       "      <th>56</th>\n",
       "      <td>Hamilton</td>\n",
       "      <td>Ont.</td>\n",
       "      <td>569353</td>\n",
       "      <td>536917</td>\n",
       "    </tr>\n",
       "    <tr>\n",
       "      <th>87</th>\n",
       "      <td>Mississauga</td>\n",
       "      <td>Ont.</td>\n",
       "      <td>717961</td>\n",
       "      <td>721599</td>\n",
       "    </tr>\n",
       "    <tr>\n",
       "      <th>106</th>\n",
       "      <td>Ottawa</td>\n",
       "      <td>Ont.</td>\n",
       "      <td>1017449</td>\n",
       "      <td>934243</td>\n",
       "    </tr>\n",
       "    <tr>\n",
       "      <th>158</th>\n",
       "      <td>Toronto</td>\n",
       "      <td>Ont.</td>\n",
       "      <td>2794356</td>\n",
       "      <td>2731571</td>\n",
       "    </tr>\n",
       "  </tbody>\n",
       "</table>\n",
       "</div>"
      ],
      "text/plain": [
       "            city  prov    pop21    pop16\n",
       "11      Brampton  Ont.   656480   593638\n",
       "56      Hamilton  Ont.   569353   536917\n",
       "87   Mississauga  Ont.   717961   721599\n",
       "106       Ottawa  Ont.  1017449   934243\n",
       "158      Toronto  Ont.  2794356  2731571"
      ]
     },
     "execution_count": 13,
     "metadata": {},
     "output_type": "execute_result"
    }
   ],
   "source": [
    "df.loc[(df[\"prov\"] == \"Ont.\") & (df[\"pop21\"] >= 500000)]"
   ]
  },
  {
   "cell_type": "markdown",
   "id": "441ce09f-903f-4e5f-a0cf-1f80b6cf5374",
   "metadata": {},
   "source": [
    "<a class=\"anchor\" id=\"newcol\"></a>\n",
    "The DataFrame isn't static. We can add or delete columns as needed. Let's first add a column which shows the change in population between 2021 and 2016 and then sort by the cities that lost the most people."
   ]
  },
  {
   "cell_type": "code",
   "execution_count": 14,
   "id": "ba606921-5818-47a2-bc91-ac256385f510",
   "metadata": {},
   "outputs": [
    {
     "data": {
      "text/html": [
       "<div>\n",
       "<style scoped>\n",
       "    .dataframe tbody tr th:only-of-type {\n",
       "        vertical-align: middle;\n",
       "    }\n",
       "\n",
       "    .dataframe tbody tr th {\n",
       "        vertical-align: top;\n",
       "    }\n",
       "\n",
       "    .dataframe thead th {\n",
       "        text-align: right;\n",
       "    }\n",
       "</style>\n",
       "<table border=\"1\" class=\"dataframe\">\n",
       "  <thead>\n",
       "    <tr style=\"text-align: right;\">\n",
       "      <th></th>\n",
       "      <th>city</th>\n",
       "      <th>prov</th>\n",
       "      <th>pop21</th>\n",
       "      <th>pop16</th>\n",
       "      <th>popChange_1621</th>\n",
       "    </tr>\n",
       "  </thead>\n",
       "  <tbody>\n",
       "    <tr>\n",
       "      <th>158</th>\n",
       "      <td>Toronto</td>\n",
       "      <td>Ont.</td>\n",
       "      <td>2794356</td>\n",
       "      <td>2731571</td>\n",
       "      <td>62785</td>\n",
       "    </tr>\n",
       "    <tr>\n",
       "      <th>11</th>\n",
       "      <td>Brampton</td>\n",
       "      <td>Ont.</td>\n",
       "      <td>656480</td>\n",
       "      <td>593638</td>\n",
       "      <td>62842</td>\n",
       "    </tr>\n",
       "    <tr>\n",
       "      <th>19</th>\n",
       "      <td>Calgary</td>\n",
       "      <td>Alta.</td>\n",
       "      <td>1306784</td>\n",
       "      <td>1239220</td>\n",
       "      <td>67564</td>\n",
       "    </tr>\n",
       "    <tr>\n",
       "      <th>42</th>\n",
       "      <td>Edmonton</td>\n",
       "      <td>Alta.</td>\n",
       "      <td>1010899</td>\n",
       "      <td>933088</td>\n",
       "      <td>77811</td>\n",
       "    </tr>\n",
       "    <tr>\n",
       "      <th>106</th>\n",
       "      <td>Ottawa</td>\n",
       "      <td>Ont.</td>\n",
       "      <td>1017449</td>\n",
       "      <td>934243</td>\n",
       "      <td>83206</td>\n",
       "    </tr>\n",
       "  </tbody>\n",
       "</table>\n",
       "</div>"
      ],
      "text/plain": [
       "         city   prov    pop21    pop16  popChange_1621\n",
       "158   Toronto   Ont.  2794356  2731571           62785\n",
       "11   Brampton   Ont.   656480   593638           62842\n",
       "19    Calgary  Alta.  1306784  1239220           67564\n",
       "42   Edmonton  Alta.  1010899   933088           77811\n",
       "106    Ottawa   Ont.  1017449   934243           83206"
      ]
     },
     "execution_count": 14,
     "metadata": {},
     "output_type": "execute_result"
    }
   ],
   "source": [
    "df[\"popChange_1621\"] = df[\"pop21\"] - df[\"pop16\"]\n",
    "df.sort_values(\"popChange_1621\").tail(5)"
   ]
  },
  {
   "cell_type": "markdown",
   "id": "750de2ba-8e65-4cbb-90f6-14d3c281ed03",
   "metadata": {},
   "source": [
    "If we don't want to keep this column, we can just delete it as follows. If you run this cell more than once, i.e. after deleting it, you'll probably get an error saying there is nothing to delete. <br>\n",
    "\n",
    "_Hint: Look at the bottom line of error message to find what is throwing the error_"
   ]
  },
  {
   "cell_type": "code",
   "execution_count": 15,
   "id": "b115a75b-5b56-49e4-bb9f-8ba50a5ae113",
   "metadata": {},
   "outputs": [],
   "source": [
    "del df[\"popChange_1621\"]"
   ]
  },
  {
   "cell_type": "markdown",
   "id": "5b44a348-4cb5-448e-a1be-f60edf726099",
   "metadata": {},
   "source": [
    "<a class=\"anchor\" id=\"aggsum\"></a>\n",
    "\n",
    "Another particularly useful function in pandas is to group by and summarize data. \n",
    "\n",
    "For example, if we want to simply count how many municipalities in each province there are in the dataset we can use the `groupby` and `size` functions.\n",
    "\n",
    "We use the .reset_index() method to convert the resulting Series back to a DataFrame and give the resulting column a name of 'count'"
   ]
  },
  {
   "cell_type": "code",
   "execution_count": 16,
   "id": "afac1016-c2c5-439c-888d-932f6675f735",
   "metadata": {},
   "outputs": [
    {
     "data": {
      "text/html": [
       "<div>\n",
       "<style scoped>\n",
       "    .dataframe tbody tr th:only-of-type {\n",
       "        vertical-align: middle;\n",
       "    }\n",
       "\n",
       "    .dataframe tbody tr th {\n",
       "        vertical-align: top;\n",
       "    }\n",
       "\n",
       "    .dataframe thead th {\n",
       "        text-align: right;\n",
       "    }\n",
       "</style>\n",
       "<table border=\"1\" class=\"dataframe\">\n",
       "  <thead>\n",
       "    <tr style=\"text-align: right;\">\n",
       "      <th></th>\n",
       "      <th>prov</th>\n",
       "      <th>count</th>\n",
       "    </tr>\n",
       "  </thead>\n",
       "  <tbody>\n",
       "    <tr>\n",
       "      <th>0</th>\n",
       "      <td>Alta.</td>\n",
       "      <td>17</td>\n",
       "    </tr>\n",
       "    <tr>\n",
       "      <th>1</th>\n",
       "      <td>B.C.</td>\n",
       "      <td>31</td>\n",
       "    </tr>\n",
       "    <tr>\n",
       "      <th>2</th>\n",
       "      <td>Man.</td>\n",
       "      <td>2</td>\n",
       "    </tr>\n",
       "    <tr>\n",
       "      <th>3</th>\n",
       "      <td>N.B.</td>\n",
       "      <td>4</td>\n",
       "    </tr>\n",
       "    <tr>\n",
       "      <th>4</th>\n",
       "      <td>N.L.</td>\n",
       "      <td>2</td>\n",
       "    </tr>\n",
       "    <tr>\n",
       "      <th>5</th>\n",
       "      <td>N.S.</td>\n",
       "      <td>3</td>\n",
       "    </tr>\n",
       "    <tr>\n",
       "      <th>6</th>\n",
       "      <td>Ont.</td>\n",
       "      <td>69</td>\n",
       "    </tr>\n",
       "    <tr>\n",
       "      <th>7</th>\n",
       "      <td>P.E.I.</td>\n",
       "      <td>1</td>\n",
       "    </tr>\n",
       "    <tr>\n",
       "      <th>8</th>\n",
       "      <td>Que.</td>\n",
       "      <td>45</td>\n",
       "    </tr>\n",
       "    <tr>\n",
       "      <th>9</th>\n",
       "      <td>Sask.</td>\n",
       "      <td>4</td>\n",
       "    </tr>\n",
       "    <tr>\n",
       "      <th>10</th>\n",
       "      <td>Y.T.</td>\n",
       "      <td>1</td>\n",
       "    </tr>\n",
       "  </tbody>\n",
       "</table>\n",
       "</div>"
      ],
      "text/plain": [
       "      prov  count\n",
       "0    Alta.     17\n",
       "1     B.C.     31\n",
       "2     Man.      2\n",
       "3     N.B.      4\n",
       "4     N.L.      2\n",
       "5     N.S.      3\n",
       "6     Ont.     69\n",
       "7   P.E.I.      1\n",
       "8     Que.     45\n",
       "9    Sask.      4\n",
       "10    Y.T.      1"
      ]
     },
     "execution_count": 16,
     "metadata": {},
     "output_type": "execute_result"
    }
   ],
   "source": [
    "df.groupby(\"prov\").size().reset_index(name='count')"
   ]
  },
  {
   "cell_type": "markdown",
   "id": "14993022-1403-4a6d-855e-57758ec356b0",
   "metadata": {},
   "source": [
    "We can chain this to other filters, for example, how many cities in each province have a population greater than 500,000?"
   ]
  },
  {
   "cell_type": "code",
   "execution_count": 17,
   "id": "fad9e37a-4b8d-4328-94a5-a7386f586422",
   "metadata": {},
   "outputs": [
    {
     "data": {
      "text/html": [
       "<div>\n",
       "<style scoped>\n",
       "    .dataframe tbody tr th:only-of-type {\n",
       "        vertical-align: middle;\n",
       "    }\n",
       "\n",
       "    .dataframe tbody tr th {\n",
       "        vertical-align: top;\n",
       "    }\n",
       "\n",
       "    .dataframe thead th {\n",
       "        text-align: right;\n",
       "    }\n",
       "</style>\n",
       "<table border=\"1\" class=\"dataframe\">\n",
       "  <thead>\n",
       "    <tr style=\"text-align: right;\">\n",
       "      <th></th>\n",
       "      <th>prov</th>\n",
       "      <th>count</th>\n",
       "    </tr>\n",
       "  </thead>\n",
       "  <tbody>\n",
       "    <tr>\n",
       "      <th>0</th>\n",
       "      <td>Alta.</td>\n",
       "      <td>2</td>\n",
       "    </tr>\n",
       "    <tr>\n",
       "      <th>1</th>\n",
       "      <td>B.C.</td>\n",
       "      <td>2</td>\n",
       "    </tr>\n",
       "    <tr>\n",
       "      <th>2</th>\n",
       "      <td>Man.</td>\n",
       "      <td>1</td>\n",
       "    </tr>\n",
       "    <tr>\n",
       "      <th>3</th>\n",
       "      <td>Ont.</td>\n",
       "      <td>5</td>\n",
       "    </tr>\n",
       "    <tr>\n",
       "      <th>4</th>\n",
       "      <td>Que.</td>\n",
       "      <td>2</td>\n",
       "    </tr>\n",
       "  </tbody>\n",
       "</table>\n",
       "</div>"
      ],
      "text/plain": [
       "    prov  count\n",
       "0  Alta.      2\n",
       "1   B.C.      2\n",
       "2   Man.      1\n",
       "3   Ont.      5\n",
       "4   Que.      2"
      ]
     },
     "execution_count": 17,
     "metadata": {},
     "output_type": "execute_result"
    }
   ],
   "source": [
    "df.loc[df[\"pop21\"] >= 500000].groupby(\"prov\").size().reset_index(name='count')"
   ]
  },
  {
   "cell_type": "markdown",
   "id": "5a0cf72e-352a-4ed0-92ce-d06f0ce7cb35",
   "metadata": {},
   "source": [
    "Great! Let's wrap by asking a bit more of an analytical question. \n",
    "\n",
    "What's the average percent change in population between 2016 and 2021 by province?"
   ]
  },
  {
   "cell_type": "code",
   "execution_count": 18,
   "id": "b00969bb-e790-48bf-be29-716c7b7a956d",
   "metadata": {},
   "outputs": [
    {
     "data": {
      "text/html": [
       "<div>\n",
       "<style scoped>\n",
       "    .dataframe tbody tr th:only-of-type {\n",
       "        vertical-align: middle;\n",
       "    }\n",
       "\n",
       "    .dataframe tbody tr th {\n",
       "        vertical-align: top;\n",
       "    }\n",
       "\n",
       "    .dataframe thead th {\n",
       "        text-align: right;\n",
       "    }\n",
       "</style>\n",
       "<table border=\"1\" class=\"dataframe\">\n",
       "  <thead>\n",
       "    <tr style=\"text-align: right;\">\n",
       "      <th></th>\n",
       "      <th>prov</th>\n",
       "      <th>avg</th>\n",
       "    </tr>\n",
       "  </thead>\n",
       "  <tbody>\n",
       "    <tr>\n",
       "      <th>4</th>\n",
       "      <td>N.L.</td>\n",
       "      <td>2.614051</td>\n",
       "    </tr>\n",
       "    <tr>\n",
       "      <th>5</th>\n",
       "      <td>N.S.</td>\n",
       "      <td>3.738991</td>\n",
       "    </tr>\n",
       "    <tr>\n",
       "      <th>9</th>\n",
       "      <td>Sask.</td>\n",
       "      <td>4.321345</td>\n",
       "    </tr>\n",
       "    <tr>\n",
       "      <th>8</th>\n",
       "      <td>Que.</td>\n",
       "      <td>4.475347</td>\n",
       "    </tr>\n",
       "    <tr>\n",
       "      <th>2</th>\n",
       "      <td>Man.</td>\n",
       "      <td>5.630750</td>\n",
       "    </tr>\n",
       "    <tr>\n",
       "      <th>0</th>\n",
       "      <td>Alta.</td>\n",
       "      <td>6.849864</td>\n",
       "    </tr>\n",
       "    <tr>\n",
       "      <th>7</th>\n",
       "      <td>P.E.I.</td>\n",
       "      <td>7.522026</td>\n",
       "    </tr>\n",
       "    <tr>\n",
       "      <th>6</th>\n",
       "      <td>Ont.</td>\n",
       "      <td>8.008899</td>\n",
       "    </tr>\n",
       "    <tr>\n",
       "      <th>3</th>\n",
       "      <td>N.B.</td>\n",
       "      <td>8.054500</td>\n",
       "    </tr>\n",
       "    <tr>\n",
       "      <th>1</th>\n",
       "      <td>B.C.</td>\n",
       "      <td>8.739919</td>\n",
       "    </tr>\n",
       "    <tr>\n",
       "      <th>10</th>\n",
       "      <td>Y.T.</td>\n",
       "      <td>12.421766</td>\n",
       "    </tr>\n",
       "  </tbody>\n",
       "</table>\n",
       "</div>"
      ],
      "text/plain": [
       "      prov        avg\n",
       "4     N.L.   2.614051\n",
       "5     N.S.   3.738991\n",
       "9    Sask.   4.321345\n",
       "8     Que.   4.475347\n",
       "2     Man.   5.630750\n",
       "0    Alta.   6.849864\n",
       "7   P.E.I.   7.522026\n",
       "6     Ont.   8.008899\n",
       "3     N.B.   8.054500\n",
       "1     B.C.   8.739919\n",
       "10    Y.T.  12.421766"
      ]
     },
     "execution_count": 18,
     "metadata": {},
     "output_type": "execute_result"
    }
   ],
   "source": [
    "df[\"popChange_1621\"] = 100 * (df[\"pop21\"] - df[\"pop16\"]) / df[\"pop16\"]\n",
    "\n",
    "dfa = df.groupby('prov')['popChange_1621'].mean().reset_index(name='avg').sort_values('avg')\n",
    "\n",
    "dfa"
   ]
  },
  {
   "cell_type": "markdown",
   "id": "5517eea1-e76f-4d0d-b7a6-8ff10df4726e",
   "metadata": {},
   "source": [
    "<a class=\"anchor\" id=\"save\"></a>\n",
    "If we want, we can save this table to a local csv file if to share with others or use in another analysis. `index = False` means that only the two data variables are saved, not the index on the left."
   ]
  },
  {
   "cell_type": "code",
   "execution_count": 19,
   "id": "770e2d8e-fe4d-4ec3-95f2-585be8f9181c",
   "metadata": {},
   "outputs": [],
   "source": [
    "# dfa.to_csv(\"avg_pop_change_by_prov.csv\", index = False)"
   ]
  },
  {
   "cell_type": "markdown",
   "id": "aa904dc0",
   "metadata": {},
   "source": [
    "# Common Pandas Errors"
   ]
  },
  {
   "cell_type": "code",
   "execution_count": 22,
   "id": "8f04b7f6",
   "metadata": {},
   "outputs": [
    {
     "ename": "TypeError",
     "evalue": "'DataFrame' object is not callable",
     "output_type": "error",
     "traceback": [
      "\u001b[0;31m---------------------------------------------------------------------------\u001b[0m",
      "\u001b[0;31mTypeError\u001b[0m                                 Traceback (most recent call last)",
      "Cell \u001b[0;32mIn[22], line 1\u001b[0m\n\u001b[0;32m----> 1\u001b[0m \u001b[43mdf\u001b[49m\u001b[43m(\u001b[49m\u001b[38;5;124;43m\"\u001b[39;49m\u001b[38;5;124;43mname\u001b[39;49m\u001b[38;5;124;43m\"\u001b[39;49m\u001b[43m)\u001b[49m\n\u001b[1;32m      2\u001b[0m \u001b[38;5;66;03m# Google this error\u001b[39;00m\n",
      "\u001b[0;31mTypeError\u001b[0m: 'DataFrame' object is not callable"
     ]
    }
   ],
   "source": [
    "df(\"name\")\n",
    "# Google this error together"
   ]
  },
  {
   "cell_type": "code",
   "execution_count": 21,
   "id": "887da51f",
   "metadata": {},
   "outputs": [
    {
     "ename": "KeyError",
     "evalue": "'PopChange_1621'",
     "output_type": "error",
     "traceback": [
      "\u001b[0;31m---------------------------------------------------------------------------\u001b[0m",
      "\u001b[0;31mKeyError\u001b[0m                                  Traceback (most recent call last)",
      "File \u001b[0;32m/opt/conda/lib/python3.11/site-packages/pandas/core/indexes/base.py:3790\u001b[0m, in \u001b[0;36mIndex.get_loc\u001b[0;34m(self, key)\u001b[0m\n\u001b[1;32m   3789\u001b[0m \u001b[38;5;28;01mtry\u001b[39;00m:\n\u001b[0;32m-> 3790\u001b[0m     \u001b[38;5;28;01mreturn\u001b[39;00m \u001b[38;5;28;43mself\u001b[39;49m\u001b[38;5;241;43m.\u001b[39;49m\u001b[43m_engine\u001b[49m\u001b[38;5;241;43m.\u001b[39;49m\u001b[43mget_loc\u001b[49m\u001b[43m(\u001b[49m\u001b[43mcasted_key\u001b[49m\u001b[43m)\u001b[49m\n\u001b[1;32m   3791\u001b[0m \u001b[38;5;28;01mexcept\u001b[39;00m \u001b[38;5;167;01mKeyError\u001b[39;00m \u001b[38;5;28;01mas\u001b[39;00m err:\n",
      "File \u001b[0;32mindex.pyx:152\u001b[0m, in \u001b[0;36mpandas._libs.index.IndexEngine.get_loc\u001b[0;34m()\u001b[0m\n",
      "File \u001b[0;32mindex.pyx:181\u001b[0m, in \u001b[0;36mpandas._libs.index.IndexEngine.get_loc\u001b[0;34m()\u001b[0m\n",
      "File \u001b[0;32mpandas/_libs/hashtable_class_helper.pxi:7080\u001b[0m, in \u001b[0;36mpandas._libs.hashtable.PyObjectHashTable.get_item\u001b[0;34m()\u001b[0m\n",
      "File \u001b[0;32mpandas/_libs/hashtable_class_helper.pxi:7088\u001b[0m, in \u001b[0;36mpandas._libs.hashtable.PyObjectHashTable.get_item\u001b[0;34m()\u001b[0m\n",
      "\u001b[0;31mKeyError\u001b[0m: 'PopChange_1621'",
      "\nThe above exception was the direct cause of the following exception:\n",
      "\u001b[0;31mKeyError\u001b[0m                                  Traceback (most recent call last)",
      "Cell \u001b[0;32mIn[21], line 1\u001b[0m\n\u001b[0;32m----> 1\u001b[0m \u001b[43mdf\u001b[49m\u001b[43m[\u001b[49m\u001b[38;5;124;43m\"\u001b[39;49m\u001b[38;5;124;43mPopChange_1621\u001b[39;49m\u001b[38;5;124;43m\"\u001b[39;49m\u001b[43m]\u001b[49m\n",
      "File \u001b[0;32m/opt/conda/lib/python3.11/site-packages/pandas/core/frame.py:3893\u001b[0m, in \u001b[0;36mDataFrame.__getitem__\u001b[0;34m(self, key)\u001b[0m\n\u001b[1;32m   3891\u001b[0m \u001b[38;5;28;01mif\u001b[39;00m \u001b[38;5;28mself\u001b[39m\u001b[38;5;241m.\u001b[39mcolumns\u001b[38;5;241m.\u001b[39mnlevels \u001b[38;5;241m>\u001b[39m \u001b[38;5;241m1\u001b[39m:\n\u001b[1;32m   3892\u001b[0m     \u001b[38;5;28;01mreturn\u001b[39;00m \u001b[38;5;28mself\u001b[39m\u001b[38;5;241m.\u001b[39m_getitem_multilevel(key)\n\u001b[0;32m-> 3893\u001b[0m indexer \u001b[38;5;241m=\u001b[39m \u001b[38;5;28;43mself\u001b[39;49m\u001b[38;5;241;43m.\u001b[39;49m\u001b[43mcolumns\u001b[49m\u001b[38;5;241;43m.\u001b[39;49m\u001b[43mget_loc\u001b[49m\u001b[43m(\u001b[49m\u001b[43mkey\u001b[49m\u001b[43m)\u001b[49m\n\u001b[1;32m   3894\u001b[0m \u001b[38;5;28;01mif\u001b[39;00m is_integer(indexer):\n\u001b[1;32m   3895\u001b[0m     indexer \u001b[38;5;241m=\u001b[39m [indexer]\n",
      "File \u001b[0;32m/opt/conda/lib/python3.11/site-packages/pandas/core/indexes/base.py:3797\u001b[0m, in \u001b[0;36mIndex.get_loc\u001b[0;34m(self, key)\u001b[0m\n\u001b[1;32m   3792\u001b[0m     \u001b[38;5;28;01mif\u001b[39;00m \u001b[38;5;28misinstance\u001b[39m(casted_key, \u001b[38;5;28mslice\u001b[39m) \u001b[38;5;129;01mor\u001b[39;00m (\n\u001b[1;32m   3793\u001b[0m         \u001b[38;5;28misinstance\u001b[39m(casted_key, abc\u001b[38;5;241m.\u001b[39mIterable)\n\u001b[1;32m   3794\u001b[0m         \u001b[38;5;129;01mand\u001b[39;00m \u001b[38;5;28many\u001b[39m(\u001b[38;5;28misinstance\u001b[39m(x, \u001b[38;5;28mslice\u001b[39m) \u001b[38;5;28;01mfor\u001b[39;00m x \u001b[38;5;129;01min\u001b[39;00m casted_key)\n\u001b[1;32m   3795\u001b[0m     ):\n\u001b[1;32m   3796\u001b[0m         \u001b[38;5;28;01mraise\u001b[39;00m InvalidIndexError(key)\n\u001b[0;32m-> 3797\u001b[0m     \u001b[38;5;28;01mraise\u001b[39;00m \u001b[38;5;167;01mKeyError\u001b[39;00m(key) \u001b[38;5;28;01mfrom\u001b[39;00m \u001b[38;5;21;01merr\u001b[39;00m\n\u001b[1;32m   3798\u001b[0m \u001b[38;5;28;01mexcept\u001b[39;00m \u001b[38;5;167;01mTypeError\u001b[39;00m:\n\u001b[1;32m   3799\u001b[0m     \u001b[38;5;66;03m# If we have a listlike key, _check_indexing_error will raise\u001b[39;00m\n\u001b[1;32m   3800\u001b[0m     \u001b[38;5;66;03m#  InvalidIndexError. Otherwise we fall through and re-raise\u001b[39;00m\n\u001b[1;32m   3801\u001b[0m     \u001b[38;5;66;03m#  the TypeError.\u001b[39;00m\n\u001b[1;32m   3802\u001b[0m     \u001b[38;5;28mself\u001b[39m\u001b[38;5;241m.\u001b[39m_check_indexing_error(key)\n",
      "\u001b[0;31mKeyError\u001b[0m: 'PopChange_1621'"
     ]
    }
   ],
   "source": [
    "df[\"PopChange_1621\"]\n",
    "#solve the rest of these errors in groups"
   ]
  },
  {
   "cell_type": "code",
   "execution_count": 23,
   "id": "301a73c9",
   "metadata": {},
   "outputs": [
    {
     "ename": "TypeError",
     "evalue": "DataFrame.sort_values() missing 1 required positional argument: 'by'",
     "output_type": "error",
     "traceback": [
      "\u001b[0;31m---------------------------------------------------------------------------\u001b[0m",
      "\u001b[0;31mTypeError\u001b[0m                                 Traceback (most recent call last)",
      "Cell \u001b[0;32mIn[23], line 1\u001b[0m\n\u001b[0;32m----> 1\u001b[0m \u001b[43mdf\u001b[49m\u001b[38;5;241;43m.\u001b[39;49m\u001b[43msort_values\u001b[49m\u001b[43m(\u001b[49m\u001b[43m)\u001b[49m\n",
      "\u001b[0;31mTypeError\u001b[0m: DataFrame.sort_values() missing 1 required positional argument: 'by'"
     ]
    }
   ],
   "source": [
    "df.sort_values()"
   ]
  },
  {
   "cell_type": "code",
   "execution_count": 24,
   "id": "7576a72a",
   "metadata": {},
   "outputs": [
    {
     "ename": "KeyError",
     "evalue": "'prov'",
     "output_type": "error",
     "traceback": [
      "\u001b[0;31m---------------------------------------------------------------------------\u001b[0m",
      "\u001b[0;31mKeyError\u001b[0m                                  Traceback (most recent call last)",
      "Cell \u001b[0;32mIn[24], line 1\u001b[0m\n\u001b[0;32m----> 1\u001b[0m \u001b[43mdf\u001b[49m\u001b[38;5;241;43m.\u001b[39;49m\u001b[43mloc\u001b[49m\u001b[43m[\u001b[49m\u001b[38;5;124;43m'\u001b[39;49m\u001b[38;5;124;43mprov\u001b[39;49m\u001b[38;5;124;43m'\u001b[39;49m\u001b[43m]\u001b[49m\n",
      "File \u001b[0;32m/opt/conda/lib/python3.11/site-packages/pandas/core/indexing.py:1153\u001b[0m, in \u001b[0;36m_LocationIndexer.__getitem__\u001b[0;34m(self, key)\u001b[0m\n\u001b[1;32m   1150\u001b[0m axis \u001b[38;5;241m=\u001b[39m \u001b[38;5;28mself\u001b[39m\u001b[38;5;241m.\u001b[39maxis \u001b[38;5;129;01mor\u001b[39;00m \u001b[38;5;241m0\u001b[39m\n\u001b[1;32m   1152\u001b[0m maybe_callable \u001b[38;5;241m=\u001b[39m com\u001b[38;5;241m.\u001b[39mapply_if_callable(key, \u001b[38;5;28mself\u001b[39m\u001b[38;5;241m.\u001b[39mobj)\n\u001b[0;32m-> 1153\u001b[0m \u001b[38;5;28;01mreturn\u001b[39;00m \u001b[38;5;28;43mself\u001b[39;49m\u001b[38;5;241;43m.\u001b[39;49m\u001b[43m_getitem_axis\u001b[49m\u001b[43m(\u001b[49m\u001b[43mmaybe_callable\u001b[49m\u001b[43m,\u001b[49m\u001b[43m \u001b[49m\u001b[43maxis\u001b[49m\u001b[38;5;241;43m=\u001b[39;49m\u001b[43maxis\u001b[49m\u001b[43m)\u001b[49m\n",
      "File \u001b[0;32m/opt/conda/lib/python3.11/site-packages/pandas/core/indexing.py:1393\u001b[0m, in \u001b[0;36m_LocIndexer._getitem_axis\u001b[0;34m(self, key, axis)\u001b[0m\n\u001b[1;32m   1391\u001b[0m \u001b[38;5;66;03m# fall thru to straight lookup\u001b[39;00m\n\u001b[1;32m   1392\u001b[0m \u001b[38;5;28mself\u001b[39m\u001b[38;5;241m.\u001b[39m_validate_key(key, axis)\n\u001b[0;32m-> 1393\u001b[0m \u001b[38;5;28;01mreturn\u001b[39;00m \u001b[38;5;28;43mself\u001b[39;49m\u001b[38;5;241;43m.\u001b[39;49m\u001b[43m_get_label\u001b[49m\u001b[43m(\u001b[49m\u001b[43mkey\u001b[49m\u001b[43m,\u001b[49m\u001b[43m \u001b[49m\u001b[43maxis\u001b[49m\u001b[38;5;241;43m=\u001b[39;49m\u001b[43maxis\u001b[49m\u001b[43m)\u001b[49m\n",
      "File \u001b[0;32m/opt/conda/lib/python3.11/site-packages/pandas/core/indexing.py:1343\u001b[0m, in \u001b[0;36m_LocIndexer._get_label\u001b[0;34m(self, label, axis)\u001b[0m\n\u001b[1;32m   1341\u001b[0m \u001b[38;5;28;01mdef\u001b[39;00m \u001b[38;5;21m_get_label\u001b[39m(\u001b[38;5;28mself\u001b[39m, label, axis: AxisInt):\n\u001b[1;32m   1342\u001b[0m     \u001b[38;5;66;03m# GH#5567 this will fail if the label is not present in the axis.\u001b[39;00m\n\u001b[0;32m-> 1343\u001b[0m     \u001b[38;5;28;01mreturn\u001b[39;00m \u001b[38;5;28;43mself\u001b[39;49m\u001b[38;5;241;43m.\u001b[39;49m\u001b[43mobj\u001b[49m\u001b[38;5;241;43m.\u001b[39;49m\u001b[43mxs\u001b[49m\u001b[43m(\u001b[49m\u001b[43mlabel\u001b[49m\u001b[43m,\u001b[49m\u001b[43m \u001b[49m\u001b[43maxis\u001b[49m\u001b[38;5;241;43m=\u001b[39;49m\u001b[43maxis\u001b[49m\u001b[43m)\u001b[49m\n",
      "File \u001b[0;32m/opt/conda/lib/python3.11/site-packages/pandas/core/generic.py:4236\u001b[0m, in \u001b[0;36mNDFrame.xs\u001b[0;34m(self, key, axis, level, drop_level)\u001b[0m\n\u001b[1;32m   4234\u001b[0m             new_index \u001b[38;5;241m=\u001b[39m index[loc]\n\u001b[1;32m   4235\u001b[0m \u001b[38;5;28;01melse\u001b[39;00m:\n\u001b[0;32m-> 4236\u001b[0m     loc \u001b[38;5;241m=\u001b[39m \u001b[43mindex\u001b[49m\u001b[38;5;241;43m.\u001b[39;49m\u001b[43mget_loc\u001b[49m\u001b[43m(\u001b[49m\u001b[43mkey\u001b[49m\u001b[43m)\u001b[49m\n\u001b[1;32m   4238\u001b[0m     \u001b[38;5;28;01mif\u001b[39;00m \u001b[38;5;28misinstance\u001b[39m(loc, np\u001b[38;5;241m.\u001b[39mndarray):\n\u001b[1;32m   4239\u001b[0m         \u001b[38;5;28;01mif\u001b[39;00m loc\u001b[38;5;241m.\u001b[39mdtype \u001b[38;5;241m==\u001b[39m np\u001b[38;5;241m.\u001b[39mbool_:\n",
      "File \u001b[0;32m/opt/conda/lib/python3.11/site-packages/pandas/core/indexes/range.py:418\u001b[0m, in \u001b[0;36mRangeIndex.get_loc\u001b[0;34m(self, key)\u001b[0m\n\u001b[1;32m    416\u001b[0m         \u001b[38;5;28;01mraise\u001b[39;00m \u001b[38;5;167;01mKeyError\u001b[39;00m(key) \u001b[38;5;28;01mfrom\u001b[39;00m \u001b[38;5;21;01merr\u001b[39;00m\n\u001b[1;32m    417\u001b[0m \u001b[38;5;28;01mif\u001b[39;00m \u001b[38;5;28misinstance\u001b[39m(key, Hashable):\n\u001b[0;32m--> 418\u001b[0m     \u001b[38;5;28;01mraise\u001b[39;00m \u001b[38;5;167;01mKeyError\u001b[39;00m(key)\n\u001b[1;32m    419\u001b[0m \u001b[38;5;28mself\u001b[39m\u001b[38;5;241m.\u001b[39m_check_indexing_error(key)\n\u001b[1;32m    420\u001b[0m \u001b[38;5;28;01mraise\u001b[39;00m \u001b[38;5;167;01mKeyError\u001b[39;00m(key)\n",
      "\u001b[0;31mKeyError\u001b[0m: 'prov'"
     ]
    }
   ],
   "source": [
    "df.loc['prov']"
   ]
  },
  {
   "cell_type": "code",
   "execution_count": 20,
   "id": "755214f0",
   "metadata": {},
   "outputs": [
    {
     "data": {
      "text/html": [
       "<div>\n",
       "<style scoped>\n",
       "    .dataframe tbody tr th:only-of-type {\n",
       "        vertical-align: middle;\n",
       "    }\n",
       "\n",
       "    .dataframe tbody tr th {\n",
       "        vertical-align: top;\n",
       "    }\n",
       "\n",
       "    .dataframe thead th {\n",
       "        text-align: right;\n",
       "    }\n",
       "</style>\n",
       "<table border=\"1\" class=\"dataframe\">\n",
       "  <thead>\n",
       "    <tr style=\"text-align: right;\">\n",
       "      <th></th>\n",
       "      <th>city</th>\n",
       "      <th>prov</th>\n",
       "      <th>pop21</th>\n",
       "      <th>pop16</th>\n",
       "      <th>popChange_1621</th>\n",
       "    </tr>\n",
       "  </thead>\n",
       "  <tbody>\n",
       "    <tr>\n",
       "      <th>0</th>\n",
       "      <td>Abbotsford</td>\n",
       "      <td>B.C.</td>\n",
       "      <td>153524</td>\n",
       "      <td>141397</td>\n",
       "      <td>8.576561</td>\n",
       "    </tr>\n",
       "    <tr>\n",
       "      <th>1</th>\n",
       "      <td>Airdrie</td>\n",
       "      <td>Alta.</td>\n",
       "      <td>74100</td>\n",
       "      <td>61581</td>\n",
       "      <td>20.329322</td>\n",
       "    </tr>\n",
       "    <tr>\n",
       "      <th>2</th>\n",
       "      <td>Ajax</td>\n",
       "      <td>Ont.</td>\n",
       "      <td>126666</td>\n",
       "      <td>119677</td>\n",
       "      <td>5.839886</td>\n",
       "    </tr>\n",
       "    <tr>\n",
       "      <th>3</th>\n",
       "      <td>Alma</td>\n",
       "      <td>Que.</td>\n",
       "      <td>30331</td>\n",
       "      <td>30771</td>\n",
       "      <td>-1.429918</td>\n",
       "    </tr>\n",
       "    <tr>\n",
       "      <th>4</th>\n",
       "      <td>Aurora</td>\n",
       "      <td>Ont.</td>\n",
       "      <td>62057</td>\n",
       "      <td>55445</td>\n",
       "      <td>11.925331</td>\n",
       "    </tr>\n",
       "    <tr>\n",
       "      <th>...</th>\n",
       "      <td>...</td>\n",
       "      <td>...</td>\n",
       "      <td>...</td>\n",
       "      <td>...</td>\n",
       "      <td>...</td>\n",
       "    </tr>\n",
       "    <tr>\n",
       "      <th>174</th>\n",
       "      <td>Windsor</td>\n",
       "      <td>Ont.</td>\n",
       "      <td>229660</td>\n",
       "      <td>217188</td>\n",
       "      <td>5.742490</td>\n",
       "    </tr>\n",
       "    <tr>\n",
       "      <th>175</th>\n",
       "      <td>Winnipeg</td>\n",
       "      <td>Man.</td>\n",
       "      <td>749607</td>\n",
       "      <td>705244</td>\n",
       "      <td>6.290447</td>\n",
       "    </tr>\n",
       "    <tr>\n",
       "      <th>176</th>\n",
       "      <td>Wood Buffalo</td>\n",
       "      <td>Alta.</td>\n",
       "      <td>72326</td>\n",
       "      <td>71594</td>\n",
       "      <td>1.022432</td>\n",
       "    </tr>\n",
       "    <tr>\n",
       "      <th>177</th>\n",
       "      <td>Woodstock</td>\n",
       "      <td>Ont.</td>\n",
       "      <td>46705</td>\n",
       "      <td>41098</td>\n",
       "      <td>13.643000</td>\n",
       "    </tr>\n",
       "    <tr>\n",
       "      <th>178</th>\n",
       "      <td>Woolwich</td>\n",
       "      <td>Ont.</td>\n",
       "      <td>26999</td>\n",
       "      <td>25006</td>\n",
       "      <td>7.970087</td>\n",
       "    </tr>\n",
       "  </tbody>\n",
       "</table>\n",
       "<p>179 rows × 5 columns</p>\n",
       "</div>"
      ],
      "text/plain": [
       "             city   prov   pop21   pop16  popChange_1621\n",
       "0      Abbotsford   B.C.  153524  141397        8.576561\n",
       "1         Airdrie  Alta.   74100   61581       20.329322\n",
       "2            Ajax   Ont.  126666  119677        5.839886\n",
       "3            Alma   Que.   30331   30771       -1.429918\n",
       "4          Aurora   Ont.   62057   55445       11.925331\n",
       "..            ...    ...     ...     ...             ...\n",
       "174       Windsor   Ont.  229660  217188        5.742490\n",
       "175      Winnipeg   Man.  749607  705244        6.290447\n",
       "176  Wood Buffalo  Alta.   72326   71594        1.022432\n",
       "177     Woodstock   Ont.   46705   41098       13.643000\n",
       "178      Woolwich   Ont.   26999   25006        7.970087\n",
       "\n",
       "[179 rows x 5 columns]"
      ]
     },
     "execution_count": 20,
     "metadata": {},
     "output_type": "execute_result"
    }
   ],
   "source": [
    "newName2 = {'Name' : 'city_name'}\n",
    "\n",
    "df.rename(columns = newName2)\n",
    "\n",
    "df"
   ]
  }
 ],
 "metadata": {
  "kernelspec": {
   "display_name": "Python 3 (ipykernel)",
   "language": "python",
   "name": "python3"
  },
  "language_info": {
   "codemirror_mode": {
    "name": "ipython",
    "version": 3
   },
   "file_extension": ".py",
   "mimetype": "text/x-python",
   "name": "python",
   "nbconvert_exporter": "python",
   "pygments_lexer": "ipython3",
   "version": "3.11.6"
  }
 },
 "nbformat": 4,
 "nbformat_minor": 5
}
