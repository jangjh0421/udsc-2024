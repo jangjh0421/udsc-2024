{
 "cells": [
  {
   "cell_type": "markdown",
   "id": "a7e4cff5-f856-4a34-80ff-64b44511674f",
   "metadata": {},
   "source": [
    "# Categorical Dot Maps\n",
    "\n",
    "Original materials prepared by [Jeff Allen](http://jamaps.github.io) (April, 2023)"
   ]
  },
  {
   "cell_type": "markdown",
   "id": "2b017d54-d0bb-418f-8915-daec770a27b8",
   "metadata": {},
   "source": [
    "Dot maps are super useful for mapping demographic categories.\n",
    "\n",
    "Check out the map below. Each dot on the map represents 10 households in the City of Toronto, each are colored by their housing tenure - whether they rent or own, and if so, whether they live in subsidized housing or have a mortgage.\n",
    "\n",
    "The benefit of dot maps like this, compared to areal choropleth maps, is that they can show both relative density (i.e., a greater concentration of households in one area compared to another) as well as relative proportions (e.g., more households renting than owning their home in one part of the city compared to another).\n",
    "\n",
    "These maps also display well at multiple scales. We can examine general patterns across the entire city or zoom in on an area to identify local patterns."
   ]
  },
  {
   "cell_type": "markdown",
   "id": "b4cd48d3-bda4-4fe2-afe8-1659ed57093f",
   "metadata": {},
   "source": [
    "<img src=\"images/toronto-housing-dot-map.png\" width=\"1001\">"
   ]
  },
  {
   "cell_type": "markdown",
   "id": "46cd16b7-5a62-43f3-8db4-766f1268bc6a",
   "metadata": {},
   "source": [
    "Dot maps showing demographic and household data, like the one above, are often based on census data. Census data are usually publicly available pre-aggregated to spatial boundaries. In Canada, for instance, urban maps are often created using neighbourhood Census Tracts or smaller Dissemination Area boundaries.\n",
    "\n",
    "The dots on demographic dot maps, like those shown above, are therefore not perfect representations of where people live; they are estimated. For example, in the map above, if we know that there are 100 households in subsidized housing in a neighbourhood, we generate 10 dots <b><u>randomly placed within that neighbourhood</u></b>. If we have available data, this process can be improved via [dasymetric](https://en.wikipedia.org/wiki/Dasymetric_map) mapping,  where we only place dots in locations where we think people live. For example, in the above map, we used a land-use layer to place dots only in residential zones rather than parks or industrial zones. Once we have this working for one neighbourhood, it is then repeated for all neighbourhoods and all categories we want to include on our map.\n",
    "\n",
    "In this tutorial, we're going to cover how to create dot maps like these using [Python](https://www.python.org/), [geoPandas](https://geopandas.org/), and some final cartography in [QGIS](https://www.qgis.org/en/site/). The example data will be used to replicate the map above, but the methods and code can be applied to anywhere with similar data."
   ]
  },
  {
   "cell_type": "markdown",
   "id": "f2bd849a-48a0-4f1f-9dd3-94b4980425ab",
   "metadata": {},
   "source": [
    "## Prerequisites\n",
    "\n",
    "Click [here](https://github.com/schoolofcities/udsc-2024/raw/main/advanced_carto/categorical-dot-maps/categorical-dot-maps.zip) to download this article as a Jupyter Notebook alongside the datasets required. In the download, there is also a standalone Python script, if you want to run the steps all-at-once or integrate with anything else you have brewing.\n",
    "\n",
    "It is recommended you run the notebook and/or script locally. To do so, you will need the following libraries. They may need to be installed (e.g. via `pip` or `conda`) if you do not have them already."
   ]
  },
  {
   "cell_type": "code",
   "execution_count": null,
   "id": "7bd48190-5b20-4692-80f1-b69f31c18b9f",
   "metadata": {},
   "outputs": [],
   "source": [
    "import warnings\n",
    "warnings.filterwarnings('ignore')\n",
    "\n",
    "import random\n",
    "import pandas as pd\n",
    "import geopandas as gpd\n",
    "from shapely.geometry import Point, Polygon\n",
    "import matplotlib.pyplot as plt"
   ]
  },
  {
   "cell_type": "markdown",
   "id": "f3fdde9f-c4cc-4e9d-8b96-b85992d73a15",
   "metadata": {},
   "source": [
    "## Loading Data\n",
    "\n",
    "We're going to replicate the map of Toronto shown at the top of this page. The source datasets have been pre-filtered for Toronto, and they are included in the download link above. The datasets we'll be using are:\n",
    "- [2021 Census Dissemination Areas (DA) Polygons](https://www12.statcan.gc.ca/census-recensement/2021/geo/sip-pis/boundary-limites/index-eng.cfm)\n",
    "- [2021 Census Data on Housing Tenure](https://www12.statcan.gc.ca/census-recensement/2021/dp-pd/prof/index.cfm?Lang=E)\n",
    "- [2019-2021 Toronto Land Use Spatial Data](https://borealisdata.ca/dataset.xhtml?persistentId=doi:10.5683/SP3/1VMJAG)\n",
    "\n",
    "Also included are layers solely for cartographic purposes (i.e. as reference layers on the final map)\n",
    "- [Toronto Boundary Polygon from OpenStreetMap](https://www.openstreetmap.org/relation/324211)\n",
    "- [Lake Ontario Polygon from OpenStreetMap](https://www.openstreetmap.org/relation/1206310)\n",
    "- [Major Trasnit Lines & Stops from Metrolinx](https://www.metrolinx.com/en/about-us/open-data)\n",
    "\n",
    "To get started, let's load the census data:"
   ]
  },
  {
   "cell_type": "code",
   "execution_count": null,
   "id": "75e62240-1b89-4c45-8660-22a4b3fb9e05",
   "metadata": {},
   "outputs": [],
   "source": [
    "da = gpd.read_file(\"data/toronto-da-2021.geojson\")\n",
    "dft = pd.read_csv(\"data/toronto-tenure-da-2021.csv\")\n",
    "dft.fillna(0, inplace=True)"
   ]
  },
  {
   "cell_type": "markdown",
   "id": "305cd671-e360-44ef-b8b4-21daec13e9fa",
   "metadata": {},
   "source": [
    "The <b>GeoDataFrame</b>, called `da`, represents the spatial boundaries of each Dissemination Area (DA). The `dft` <b>DataFrame</b> contains a table of the number of households in each DA that either rent or own their home. We can join these two based on their unique identifier, `DAUID`. "
   ]
  },
  {
   "cell_type": "code",
   "execution_count": null,
   "id": "683566aa-1368-4cca-a4cf-6579bb2b2d91",
   "metadata": {},
   "outputs": [],
   "source": [
    "dft[\"DAUID\"] = dft[\"DAUID\"].astype('str')\n",
    "da = da.merge(dft, how='left', on='DAUID')\n",
    "da.head(5)"
   ]
  },
  {
   "cell_type": "markdown",
   "id": "901f083e-c961-464f-842e-106e6423042f",
   "metadata": {},
   "source": [
    "## Initial Exploration\n",
    "\n",
    "Let's first create a column called `Total` and calculate the total number of households in each DA.\n",
    "\n",
    "Then create two additional columns: \n",
    "- one for households that own their home without a mortgage `Owner_no_mortgage` , \n",
    "- and another for those that rent their home without living in subsidized housing `Renter_not_in_subsidized_housing`."
   ]
  },
  {
   "cell_type": "code",
   "execution_count": null,
   "id": "7fdcd59e-e203-4b27-aff6-aaa6802b2b90",
   "metadata": {},
   "outputs": [],
   "source": [
    "da[\"Total\"] = da[\"Owner\"] + da[\"Renter\"]\n",
    "da[\"Owner_no_mortgage\"] = da[\"Owner\"] - da[\"Owner_with_mortgage\"]\n",
    "da[\"Renter_not_in_subsidized_housing\"] = da[\"Renter\"] - da[\"Renter_in_subsidized_housing\"]"
   ]
  },
  {
   "cell_type": "markdown",
   "id": "c95967f5-627b-4e9b-b5db-dd50616e1cba",
   "metadata": {},
   "source": [
    "We now have four categories that add up to the total number of households in a DA\n",
    "- Owners with a mortgage\n",
    "- Owners without a mortgage\n",
    "- Renters in subsidized housing\n",
    "- Renters not in subsidized housing\n",
    "\n",
    "Using the [Matplot](https://matplotlib.org/stable/api/pyplot_summary.html) library, let's make a <b>choropleth map</b> to explore the proportion of household tenure types across Toronto DAs. We will use the same classification scheme for each type of housing tenure and plot DAs that have a Total = 0 (i.e. those that return a null when dividing by 0) in yellow."
   ]
  },
  {
   "cell_type": "code",
   "execution_count": null,
   "id": "e1b4d75c-0808-4c5a-a632-4c67d9ec0464",
   "metadata": {},
   "outputs": [],
   "source": [
    "# Create a figure with 2 columns x 2 rows\n",
    "fig, ax = plt.subplots(ncols=2, nrows=2, figsize=(9,6))\n",
    "\n",
    "variables = [\n",
    "    \"Owner_with_mortgage\", \n",
    "    \"Owner_no_mortgage\", \n",
    "    \"Renter_not_in_subsidized_housing\", \n",
    "    \"Renter_in_subsidized_housing\"\n",
    "]\n",
    "\n",
    "titles = [\n",
    "    \"% of households that own with a mortgage\", \n",
    "    \"% of households that own without a mortgage\", \n",
    "    \"% of households that rent not in subsidized housing\", \n",
    "    \"% of households that rent in subsidized housing\"\n",
    "]\n",
    "\n",
    "# For each variable...\n",
    "for i, v in enumerate(variables):\n",
    "    \n",
    "    # Plot background border and colour (to highlight 'no data' values)\n",
    "    da.plot(\n",
    "        edgecolor = \"#c2c2c2\",\n",
    "        color = \"#F1C500\",\n",
    "        linewidth = 1,\n",
    "        ax = ax[int(i / 2), i % 2] # Select specific subplot based on i\n",
    "    );\n",
    "    \n",
    "    # PLot DA layer shaded by percent of households for each category\n",
    "    da.plot(\n",
    "        column = 100 * da[v] / da[\"Total\"], # Calulcate %\n",
    "        cmap = 'Greys', # Colour map\n",
    "        legend = True,\n",
    "        ax=ax[int(i / 2), i % 2], # Select specific subplot based on i\n",
    "        scheme='user_defined',\n",
    "        classification_kwds=dict(bins=[20, 40, 60, 80, 100]), # Classification thresholds\n",
    "        legend_kwds = {\n",
    "            \"loc\": \"lower right\",\n",
    "            \"fontsize\": 6,\n",
    "            \"title\": \"Percent\"\n",
    "        }\n",
    "    ).set_axis_off()\n",
    "    \n",
    "    # Subplot titles\n",
    "    ax[int(i / 2), i % 2].set_title(\n",
    "        titles[i], # Title from titles list\n",
    "        fontsize=10, \n",
    "        loc='left'\n",
    "    )\n",
    "    \n",
    "plt.tight_layout()"
   ]
  },
  {
   "cell_type": "markdown",
   "id": "f9a9a381-aa45-4a28-871f-1e625dcd5415",
   "metadata": {},
   "source": [
    "From the choropleth maps, we can already identify some patterns. Renting is more common in downtown areas and some suburban nodes, while subsidized renting is highly concentrated in a few Dissemination Areas. Owning, on the other hand, is more evenly distributed, but those who own their homes without a mortgage tend to live in more central locations.\n",
    "\n",
    "These choropleth maps are a good start, but they have some limitations:\n",
    "- They only show the percent (i.e. rate) of each tenure type, <b>not the density</b>. Areas of the same value on the maps above may have very different concentrations of dwellings. \n",
    "- In order to look at all four variables, we needed to make 4 separate plots. These are useful for overall comparisons, but it's difficult to compare specific neighbourhoods.\n",
    "- The concentration of dwellings likely varies across each DA polygon. Some of these DAs are quite large, but mostly consist of non-residential land (e.g. parks, industrial, etc.), so shading the entire DA can be a bit misleading in terms of *where* households are.\n",
    "- A few of the DAs have 0 population. We coloured these as an extra category to our map (yellow), but this can distract from the overall story."
   ]
  },
  {
   "cell_type": "markdown",
   "id": "ec123f21-d0d2-481b-b454-f1c73081798e",
   "metadata": {},
   "source": [
    "## Categorical Dot Maps\n",
    "\n",
    "One solution to the above-noted issues are categorical dot maps. These maps can show the relative proportions and densities among one or more categories.\n",
    "\n",
    "The first step in creating a dot map like the above is to decide on a rate of households per dot, and then calculate the number of dots to generate per area based on this rate and the number of households in the area. For example, if there are 200 households in a DA, and the rate is 10 households per dot, then we would generate 20 dots in the DA.\n",
    "\n",
    "We can do this pretty simply as shown below, using the variable `d` to represent the rate of households per dot.\n",
    "\n",
    "Note that it can be difficult to initially judge what this rate, `d`, should be. This may vary depending on the intended size of your map as well as the spatial distribution of what you're trying to map. Deciding on a dot rate often requires some iteration in generating the dots, looking at the output on a map, and then re-generating them if need be. (I initially started with `d = 20`, but decided to reduce since I thought the map was too sparse)."
   ]
  },
  {
   "cell_type": "code",
   "execution_count": null,
   "id": "780575a7-6ade-4f0e-8e6c-32953b3f0d84",
   "metadata": {},
   "outputs": [],
   "source": [
    "# Calculate number of dots to plot per DA\n",
    "d = 10\n",
    "da[\"Owner_with_mortgage_dots\"] = da[\"Owner_with_mortgage\"] / d\n",
    "da[\"Owner_no_mortgage_dots\"] = da[\"Owner_no_mortgage\"] / d\n",
    "da[\"Renter_in_subsidized_housing_dots\"] = da[\"Renter_in_subsidized_housing\"] / d\n",
    "da[\"Renter_not_in_subsidized_housing_dots\"] = da[\"Renter_not_in_subsidized_housing\"] / d"
   ]
  },
  {
   "cell_type": "markdown",
   "id": "b6b3b121-b2f1-4705-a88c-0fc1a0a7a995",
   "metadata": {},
   "source": [
    "The second step is generating dots that we can plot on a map. For each DA, we generate X random dots, based on the numbers calculate above. Below is a schematic example.\n",
    "\n",
    "The simplest approach is on the left, placing dots randomly throughout the DA polygon..\n",
    "\n",
    "One the right is a [dasymetric](https://en.wikipedia.org/wiki/Dasymetric_map) (dasy = dense, metric = measure) approach, where we use another dataset, such as land-use data, to clip out non-residential areas prior to generating dots. For example, on the right, we're only placing dots in the areas that are not retail or parks. This provides better estimation that the dots are located where households actually live."
   ]
  },
  {
   "cell_type": "markdown",
   "id": "5efb6cdf-bc93-431d-b54c-89ec6ffd8507",
   "metadata": {},
   "source": [
    "<img src=\"images/dot-generation.svg\" width=\"800\">"
   ]
  },
  {
   "cell_type": "markdown",
   "id": "0205942a-9817-4c03-9460-8e6a6f6e99bd",
   "metadata": {},
   "source": [
    "Let's try to dasymetrically generate dots for every DA in Toronto!\n",
    "\n",
    "For Toronto, we fortunately have a dataset on land-use that we can use to classify areas as \"residential\" (i.e. candidate areas for placing dots), and \"non-residential\". Let's load and quickly plot the data:"
   ]
  },
  {
   "cell_type": "code",
   "execution_count": null,
   "id": "01c4ae8c-7628-4775-9c2e-3449fed714a2",
   "metadata": {},
   "outputs": [],
   "source": [
    "lu = gpd.read_file(\"data/toronto-land-use-2022-sp.shp\")\n",
    "\n",
    "fig, ax = plt.subplots(figsize=(8,7))\n",
    "\n",
    "lu.plot(\n",
    "    column = \"Class_name\", \n",
    "    categorical = True,\n",
    "    legend = True,\n",
    "    edgecolor = None,\n",
    "    ax=ax,\n",
    "    legend_kwds = {\n",
    "        \"loc\": \"lower right\",\n",
    "        \"fontsize\": 7,\n",
    "        \"title\": \"Land Use\"\n",
    "    }\n",
    ").set_axis_off();"
   ]
  },
  {
   "cell_type": "markdown",
   "id": "882a784b-7cf0-45ce-879c-0b112fc8fab9",
   "metadata": {},
   "source": [
    "Residential land uses are classified as `[\"MixedUse\", \"Neighbourhoods\", \"ApartmentNeighbourhoods\"]`. Let's query out these categories and save to a new GeoDataFrame."
   ]
  },
  {
   "cell_type": "code",
   "execution_count": null,
   "id": "e67c2ef3-2049-4212-8d6c-9f737845af0c",
   "metadata": {},
   "outputs": [],
   "source": [
    "res_classes = [\"MixedUse\", \"Neighbourhoods\", \"ApartmentNeighbourhoods\"]\n",
    "res = lu[lu['Class_name'].isin(res_classes)]"
   ]
  },
  {
   "cell_type": "markdown",
   "id": "4b781eff-103e-4a68-aa0e-83849a8e6279",
   "metadata": {},
   "source": [
    "Now let's cut out the non-residenital zones from the Dissemination Area polygons. We can think of this operation like a cookie cutter where the residential areas inside DAs are the shapes that we keep.\n",
    "\n",
    "This is a two-step process in `geopandas`. First we use the [overlay](https://geopandas.org/en/stable/docs/user_guide/set_operations.html) function with the <b>intersection</b> operation to select where residential and DA geometries overlap.\n",
    "\n",
    "At the end, we dissolve the geometries (i.e. a spatial group-by) by the `DAUID` since the intersection can lead to several different features with the same `DAUID`. This happens when two non-touching residential zones spatially overlap with a single Dissemination Area."
   ]
  },
  {
   "cell_type": "code",
   "execution_count": null,
   "id": "a024ca72-fc6b-4de6-8a0e-a173e0f4c0b3",
   "metadata": {},
   "outputs": [],
   "source": [
    "gdf = gpd.overlay(da, res, how='intersection').dissolve(by = \"DAUID\")"
   ]
  },
  {
   "cell_type": "markdown",
   "id": "00b8477e-0edc-49cd-94e9-6773f1852201",
   "metadata": {},
   "source": [
    "Here's the result for a few DAs. The clipped residential area in yellow, overlaid by the original DA geometries."
   ]
  },
  {
   "cell_type": "code",
   "execution_count": null,
   "id": "23d3002b-1a2c-41cc-8415-7b63e1ef19fb",
   "metadata": {},
   "outputs": [],
   "source": [
    "fig, ax = plt.subplots(figsize=(20, 20))\n",
    "\n",
    "gdf.plot(\n",
    "    color = \"#F1C500\",\n",
    "    linewidth = 0,\n",
    "    ax = ax\n",
    ")\n",
    "da.plot(\n",
    "    facecolor = 'none',\n",
    "    linewidth = 0.6,\n",
    "    edgecolor = \"#343434\",\n",
    "    ax = ax\n",
    ").set_axis_off()"
   ]
  },
  {
   "cell_type": "markdown",
   "id": "7be95811-5af0-46b6-abdc-d8d8de1f9d4d",
   "metadata": {},
   "source": [
    "Now let's generate some dots! Here's a function that takes an input geometry and returns a random point inside of it. Specifically, this function generates a random point within the <b><u>bounding box</u></b> of the polygon, then checks if it is contained by the <b><u>polygon itself</u></b>. If it is, coordinates of the point are returned, but if it outside the polygon, points continue to be generated until this condition is met."
   ]
  },
  {
   "cell_type": "code",
   "execution_count": null,
   "id": "182111bf-10ed-439a-86c6-1414c7904370",
   "metadata": {},
   "outputs": [],
   "source": [
    "def gen_dot(polygon):\n",
    "    \n",
    "    while True:\n",
    "        \n",
    "        # Generate random point inside bounding box of poly\n",
    "        pt = Point(random.uniform(polygon.bounds[0], polygon.bounds[2]), random.uniform(polygon.bounds[1], polygon.bounds[3]))\n",
    "\n",
    "        # If point is inside polygon, extract XY coords, otherwise create another point\n",
    "        if (polygon.contains(pt)==True):\n",
    "            points = [pt.x,pt.y]\n",
    "            break\n",
    "            \n",
    "    return points"
   ]
  },
  {
   "cell_type": "markdown",
   "id": "c27b4d04-39de-4045-b6d1-44f48dbe17c5",
   "metadata": {},
   "source": [
    "Let's apply this to loop over our clipped DA dataset, generating all of our dots! This might take a few seconds, not super long though, for me it took less than a minute. Including `%%time` in the top line of a cell allows us to measure and return the time it takes to execute the code block."
   ]
  },
  {
   "cell_type": "code",
   "execution_count": null,
   "id": "0aa6fa78-d336-425f-a782-6598a873dfd1",
   "metadata": {},
   "outputs": [],
   "source": [
    "gdf"
   ]
  },
  {
   "cell_type": "code",
   "execution_count": null,
   "id": "a96a48ce-4cc1-46ee-b580-e30ca6ccc726",
   "metadata": {},
   "outputs": [],
   "source": [
    "%%time\n",
    "\n",
    "variables = [\n",
    "    \"Owner_with_mortgage\", \n",
    "    \"Owner_no_mortgage\", \n",
    "    \"Renter_not_in_subsidized_housing\", \n",
    "    \"Renter_in_subsidized_housing\"\n",
    "]\n",
    "\n",
    "output = []\n",
    "\n",
    "for index, row in gdf.iterrows():\n",
    "    \n",
    "    for var in variables:\n",
    "        n = round(row[var + \"_dots\"]) # Number of dots needed for the current variable\n",
    "        i = 0 # Initialise counter for dots\n",
    "        \n",
    "        while i < n: # Until required number of dots is reached...\n",
    "            dot = gen_dot(row[\"geometry\"]) # Generate random dot\n",
    "            output.append([var,dot[0],dot[1]])  # Append variable name and coordinates to output list\n",
    "            i += 1"
   ]
  },
  {
   "cell_type": "markdown",
   "id": "a6854b40",
   "metadata": {},
   "source": [
    "Next, we will take steps to save the dots as a `.geojson` file so we can load it later, either in this same notebook or elsewhere (e.g. in QGIS)."
   ]
  },
  {
   "cell_type": "code",
   "execution_count": null,
   "id": "ea9dd93e-aeff-4cdd-b0eb-b793b0c655f2",
   "metadata": {},
   "outputs": [],
   "source": [
    "# Convert the output to a dataframe\n",
    "dots = pd.DataFrame(output, columns = [\"type\",\"x\",\"y\"])\n",
    "dots"
   ]
  },
  {
   "cell_type": "code",
   "execution_count": null,
   "id": "5638c8dd-7b19-4331-97a6-31417c9a7b28",
   "metadata": {},
   "outputs": [],
   "source": [
    "# Use XY coords as point geometries in GeoDataFrame\n",
    "geometry = [Point(xy) for xy in zip(dots['x'], dots['y'])]\n",
    "dots = gpd.GeoDataFrame(dots, geometry=geometry)\n",
    "\n",
    "# Keep type and geometry columns and set coordinate reference system (CRS) to EPSG:4326\n",
    "dots = dots[[\"type\",\"geometry\"]].set_crs('epsg:4326')\n",
    "\n",
    "# Export as geojson\n",
    "dots.to_file(\"data/dots.geojson\", driver=\"GeoJSON\")"
   ]
  },
  {
   "cell_type": "markdown",
   "id": "216aa6c2-7e18-48cd-8b44-6786fc534bf0",
   "metadata": {},
   "source": [
    "Great! Now let's plot these dots on a map to see if it worked properly!"
   ]
  },
  {
   "cell_type": "code",
   "execution_count": null,
   "id": "05f93af7-6141-4785-901a-39accb7f0574",
   "metadata": {},
   "outputs": [],
   "source": [
    "fig, ax = plt.subplots(figsize=(20,14))\n",
    "\n",
    "# Background DA polygon layer\n",
    "da.plot(\n",
    "    facecolor = 'none',\n",
    "    linewidth = 0.6,\n",
    "    edgecolor = \"#e9e9e9\",\n",
    "    ax = ax\n",
    ")\n",
    "\n",
    "# Dot layer coloured by each category\n",
    "dots.plot(\n",
    "    ax = ax,\n",
    "    column='type',\n",
    "    categorical=True, \n",
    "    legend=True,\n",
    "    cmap = 'Accent',\n",
    "    markersize = 0.02,\n",
    "    legend_kwds = {\n",
    "        \"loc\": \"lower right\",\n",
    "        \"fontsize\": 7\n",
    "    }\n",
    ").set_axis_off()"
   ]
  },
  {
   "cell_type": "markdown",
   "id": "db760b61-24f3-40b6-941d-82d50929e768",
   "metadata": {},
   "source": [
    "## Cartographic Details\n",
    "\n",
    "Okay! So the above worked pretty well, but the map isn't great, and could use some additional context and layout items.\n",
    "\n",
    "From here, let's pivot over to trying to make the map prettier and more useful in QGIS. \n",
    "\n",
    "(Note that we could probably do most of the following in Python, but it can be more effective to tweak the symbology of layers via a GUI rather than just code).\n",
    "\n",
    "There are a couple of workflows you may find helpful for designing 'static' maps with larger datasets."
   ]
  },
  {
   "cell_type": "markdown",
   "id": "136134fd",
   "metadata": {},
   "source": [
    "### 1. Create a map layout in QGIS\n",
    "\n",
    "Within QGIS:\n",
    "1. Visualize data layers\n",
    "2. Update symbology within layer properties\n",
    "3. Create an image of the map including map elements such as a legend, north arrow, and notes using [Print Layout](https://docs.qgis.org/3.34/en/docs/training_manual/map_composer/map_composer.html)"
   ]
  },
  {
   "cell_type": "markdown",
   "id": "62867fed-aaa4-4f62-88ec-6309c03bc877",
   "metadata": {},
   "source": [
    "Below is a screenshot of the dot layer, as well as the other reference layers, loaded into QGIS. The QGIS project file `.qgis` is in the download zip at `toronto-housing-dot-map.qgz`. In QGIS, the layers have been loaded and then the symbology tweaked to try to improve the map's legibility and aesthetics. For example:\n",
    "- Major transit routes (TTC) have been overlaid for general reference and orientation.\n",
    "- A boundary polygon for the City of Toronto has been added to better distinguish the study area.\n",
    "- The dot colours have been specifically chosen for their contrast (you may find the [ColorBrewer](https://colorbrewer2.org/#type=sequential&scheme=BuGn&n=3) tool helpful for optimising colour choices).\n",
    "- Several 'background' layers have been added to the map (land use, DA boundaries, Lake Ontario). These provide some geographic reference, but the colours are chosen to be more nuanced and not distract from the main layer of interest (the dots).\n",
    "- The map has been rotated ~17 degrees. This creates a better \"fit\" of the geography onto the rectangular page by omitting empty \"white\" space."
   ]
  },
  {
   "cell_type": "markdown",
   "id": "d3fc31ec-bc11-40bf-ab5a-112b83308ac4",
   "metadata": {},
   "source": [
    "<img src=\"images/qgis-screenshot.png\" width=\"600\">"
   ]
  },
  {
   "cell_type": "markdown",
   "id": "d2880851",
   "metadata": {},
   "source": [
    "Map elements can be added and the final image of the map exported using options within <i>Print Layout</i>. To open, select `Project > New Print Layout...` and provide a template name. Note that this template will be stored within the QGIS project and can subsequently be accessed from `Layout Manager`.\n",
    "\n",
    "A new <i>Print Layout</i> window will open and paper size and orientation may be updated by right-clicking anywhere in the window and selecting `Page properties...`. From the menu, select `Add item > Add Map` and draw a rectangle on the page for where you would like to position the image of your map. Notice that zooming in/out adjusts the view of the page. To adjust the view of the map, activate `Edit > Move content` and select the map from the `Items` content pane. Now, you may adjust the position and zoom level of the map using the mouse or updating the `Main properties` parameters.\n",
    "\n",
    "The screenshot below shows an example map layout. Map elements may be added from the `Add item` menu and significant customisations can be made by selecting the item within the `Items` pane. Finessing maps can take time, so it's worth playing around with different formatting options for each element and learning how to copy colours and styles across elements for consistency.\n",
    "\n",
    "Once you're happy with the final map product, select `Layout > Export as Image...` and save as a high resolution `.png`"
   ]
  },
  {
   "cell_type": "markdown",
   "id": "406a44e5",
   "metadata": {},
   "source": [
    "<img src=\"images/printlayout-screenshot.png\" width=\"800\">"
   ]
  },
  {
   "cell_type": "markdown",
   "id": "ff50c57f-122b-4718-9d6d-75b37dd53646",
   "metadata": {},
   "source": [
    "### 2. Create a map layout using QGIS and Inkscape (or alternative vector graphics editor)\n",
    "\n",
    "1. Within QGIS, visualize data layers and update symbology from layer properties\n",
    "2. From QGIS <i>Print Layout</i>, export map as a high-resolution raster image `.png` (without map elements)\n",
    "3. Open `.png` in Inkscape, and add additional layout elements (e.g. title, legend, north arrow, etc.)\n",
    "\n",
    "For increased flexibility over the inclusion and design of map elements, a graphics editor such as Inkscape may be used. \n",
    "\n",
    "It's important to export the map in exactly the same dimensions that we want it to be in our final layout (i.e. so we aren't resizing it in Inkscape which can cause distortion or resolution change). The map was  exported at 10 inches wide by 6 inches tall to fit nicely on a landscape-oriented letter page with a margin, but also to view well online on most screens.\n",
    "\n",
    "Below is a screenshot of the map in Inkscape, with each of the layout items selected. Note the legend has increased in complexity and includes a mini chart showing the distribution of each of the four tenure-types shown on the map. Jeff has used relatively unique labelling on this chart, showing the percent of rent and own on one side, and the sub-categories on the other. This is a simple chart, but with very specific labelling, so was created \"by hand\". To get the percents, the block of code below was quickly plopped out, and then rectangles drawn to be in proportion to each number."
   ]
  },
  {
   "cell_type": "markdown",
   "id": "f314f07e-5b6f-4c56-9506-f3761df6ad00",
   "metadata": {},
   "source": [
    "<img src=\"images/inkscape-screenshot.png\" width=\"600\">"
   ]
  },
  {
   "cell_type": "code",
   "execution_count": null,
   "id": "397894c4-cc0b-4609-9e3a-b7e85a8419d5",
   "metadata": {},
   "outputs": [],
   "source": [
    "for v in variables:\n",
    "    print(v, da[v].sum(), 100 * da[v].sum() / da[\"Total\"].sum())"
   ]
  },
  {
   "cell_type": "markdown",
   "id": "f1115ff4-7dbf-483d-8824-0f5d6c7677ba",
   "metadata": {},
   "source": [
    "Here's the final map created in Inkscape exported at 300dpi."
   ]
  },
  {
   "cell_type": "markdown",
   "id": "e4332dd8-8b44-49a3-95aa-b6a85a764974",
   "metadata": {},
   "source": [
    "<img src=\"images/toronto-housing-dot-map.png\" width=\"1001\">"
   ]
  },
  {
   "cell_type": "markdown",
   "id": "1779f90c-8b7f-4f05-bf47-316a60f77128",
   "metadata": {},
   "source": [
    "## Caveats\n",
    "\n"
   ]
  },
  {
   "cell_type": "markdown",
   "id": "bd2935db-381b-47b6-b586-a3524b24618e",
   "metadata": {},
   "source": [
    "Of course dot maps aren't always the best option. They can be a bit difficult to parse out colours and patterns, especially once we add more and more categories. If you want to dig into the patterns of each specifically, i.e. are less concerned about the comparisons, or are only interested in density OR proportions (rather than both at the same time), a series of individual choropleth or single-category dot density maps would be good to pursue as well. It's rare to have too many maps :)"
   ]
  },
  {
   "cell_type": "markdown",
   "id": "1f9942d8-9f92-4b0c-a357-11a8567ece54",
   "metadata": {},
   "source": [
    "## Additional Resources\n",
    "\n",
    "- [Wikipedia page on dot maps](https://en.wikipedia.org/wiki/Dot_distribution_map)\n",
    "- [Wikipedia page on dasymetric mapping](https://en.wikipedia.org/wiki/Dasymetric_map)"
   ]
  }
 ],
 "metadata": {
  "kernelspec": {
   "display_name": "Python 3 (ipykernel)",
   "language": "python",
   "name": "python3"
  },
  "language_info": {
   "codemirror_mode": {
    "name": "ipython",
    "version": 3
   },
   "file_extension": ".py",
   "mimetype": "text/x-python",
   "name": "python",
   "nbconvert_exporter": "python",
   "pygments_lexer": "ipython3",
   "version": "3.9.12"
  }
 },
 "nbformat": 4,
 "nbformat_minor": 5
}
